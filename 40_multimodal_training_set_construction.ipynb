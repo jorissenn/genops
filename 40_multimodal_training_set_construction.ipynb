{
 "cells": [
  {
   "cell_type": "code",
   "execution_count": 1,
   "id": "7ba38825-a05d-45df-adc0-571526d0e17b",
   "metadata": {},
   "outputs": [],
   "source": [
    "import os"
   ]
  },
  {
   "cell_type": "markdown",
   "id": "d8b0277b-d0a1-4b0c-91af-774bbd828e58",
   "metadata": {},
   "source": [
    "### Checking vector raster correspondence\n",
    "\n",
    "The CSV-files generated above are used to create the respective training sets in the notebooks *20_raster_training_set_construction* and *30_vector_training_set_construction*. Here, a check is performed to verify that the two training datasets line up and can therefore be used to train the multimodal model."
   ]
  },
  {
   "cell_type": "code",
   "execution_count": 2,
   "id": "aada7b48-4c81-490e-833c-eec875714799",
   "metadata": {},
   "outputs": [],
   "source": [
    "def check_correspondence(raster_dir, vector_dir):\n",
    "    '''Checks whether the generated raster and vector samples line up.'''\n",
    "    # read the generated files\n",
    "    raster_filenames = os.listdir(raster_dir)\n",
    "    vector_filenames = os.listdir(vector_dir)\n",
    "    \n",
    "    # sort the files\n",
    "    raster_filenames.sort()\n",
    "    vector_filenames.sort()\n",
    "    \n",
    "    for raster_filename, vector_filename in zip(raster_filenames, vector_filenames):\n",
    "        # remove the file extensions\n",
    "        raster_file = raster_filename.split(\".\")[0]\n",
    "        vector_file = vector_filename.split(\".\")[0]\n",
    "    \n",
    "        if raster_file != vector_file:\n",
    "            return f\"Files {raster_filename} and {vector_filename} do not correspond!\"\n",
    "\n",
    "    return \"Raster and vector samples correspond!\""
   ]
  },
  {
   "cell_type": "markdown",
   "id": "e8d03d0b-599d-426d-91ad-dc348d118f4e",
   "metadata": {},
   "source": [
    "#### Elimination model"
   ]
  },
  {
   "cell_type": "code",
   "execution_count": 3,
   "id": "7b9851ce-760d-4790-bfc1-7a26da9f4222",
   "metadata": {},
   "outputs": [
    {
     "name": "stdout",
     "output_type": "stream",
     "text": [
      "Raster and vector samples correspond!\n",
      "Raster and vector samples correspond!\n",
      "Raster and vector samples correspond!\n"
     ]
    }
   ],
   "source": [
    "print(check_correspondence(\"../data.nosync/raster/training_data/elimination/training\",\n",
    "                           \"../data.nosync/vector/training_data/elimination/training\"))\n",
    "print(check_correspondence(\"../data.nosync/raster/training_data/elimination/validation\", \n",
    "                           \"../data.nosync/vector/training_data/elimination/validation\"))\n",
    "print(check_correspondence(\"../data.nosync/raster/training_data/elimination/test\", \n",
    "                           \"../data.nosync/vector/training_data/elimination/test\"))"
   ]
  },
  {
   "cell_type": "markdown",
   "id": "12a42d05-daac-4fc7-a98e-918efb4ba3bc",
   "metadata": {},
   "source": [
    "#### Selection model"
   ]
  },
  {
   "cell_type": "code",
   "execution_count": 4,
   "id": "23d18dc0-da0d-452e-873a-0ad31d1ec442",
   "metadata": {},
   "outputs": [
    {
     "name": "stdout",
     "output_type": "stream",
     "text": [
      "Raster and vector samples correspond!\n",
      "Raster and vector samples correspond!\n",
      "Raster and vector samples correspond!\n"
     ]
    }
   ],
   "source": [
    "print(check_correspondence(\"../data.nosync/raster/training_data/selection/training\",\n",
    "                           \"../data.nosync/vector/training_data/selection/training\"))\n",
    "print(check_correspondence(\"../data.nosync/raster/training_data/selection/validation\", \n",
    "                           \"../data.nosync/vector/training_data/selection/validation\"))\n",
    "print(check_correspondence(\"../data.nosync/raster/training_data/selection/test\", \n",
    "                           \"../data.nosync/vector/training_data/selection/test\"))"
   ]
  },
  {
   "cell_type": "code",
   "execution_count": null,
   "id": "632a6359-76ed-4fb0-96f3-a18f10b633f5",
   "metadata": {},
   "outputs": [],
   "source": []
  }
 ],
 "metadata": {
  "kernelspec": {
   "display_name": "Python 3 (ipykernel)",
   "language": "python",
   "name": "python3"
  },
  "language_info": {
   "codemirror_mode": {
    "name": "ipython",
    "version": 3
   },
   "file_extension": ".py",
   "mimetype": "text/x-python",
   "name": "python",
   "nbconvert_exporter": "python",
   "pygments_lexer": "ipython3",
   "version": "3.11.7"
  }
 },
 "nbformat": 4,
 "nbformat_minor": 5
}

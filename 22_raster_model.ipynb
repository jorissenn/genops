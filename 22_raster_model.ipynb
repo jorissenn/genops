{
 "cells": [
  {
   "cell_type": "code",
   "execution_count": 9,
   "id": "f613cb6e-9dde-45a0-b730-a6883df55bb1",
   "metadata": {},
   "outputs": [],
   "source": [
    "import torch\n",
    "import torch.nn as nn\n",
    "import torch.nn.functional as F\n",
    "import torchvision\n",
    "import torchvision.transforms as transforms\n",
    "from torch.utils.data import Dataset, DataLoader\n",
    "#from torchview import draw_graph\n",
    "import matplotlib.pyplot as plt\n",
    "import numpy as np"
   ]
  },
  {
   "cell_type": "markdown",
   "id": "70af7673-18d4-4d02-b65b-7b50406faed5",
   "metadata": {},
   "source": [
    "### Loading the data"
   ]
  },
  {
   "cell_type": "code",
   "execution_count": 10,
   "id": "9dda95da-6983-416f-b00f-fbe4bd018f8d",
   "metadata": {},
   "outputs": [],
   "source": [
    "class BuildingDataset(Dataset):\n",
    "    def __init__(self, path):\n",
    "        '''Loads the data'''\n",
    "        # read raster maps\n",
    "        # self.x = torch.from_numpy()\n",
    "        # load the generalization operators\n",
    "        # self.y = torch.from_numpy()\n",
    "        #self.n_samples = xy.shape[0]\n",
    "        pass\n",
    "\n",
    "    def __getitem__(self, index):\n",
    "        '''Enables indexing'''\n",
    "        # returns self.x[index], self.y{index}\n",
    "        pass\n",
    "        \n",
    "    def __len__(self):\n",
    "        '''Enables dataset length calculation'''\n",
    "        #return self.n_samples \n",
    "        pass\n",
    "\n",
    "path = \"../training_samples.nosync/raster\"\n",
    "\n",
    "#dataset = BuildingDataset()\n",
    "#dataloader = DataLoader(dataset=dataset, batch_size=4, shuffle=True)\n",
    "\n",
    "#dataiter = iter(dataloader)"
   ]
  },
  {
   "cell_type": "markdown",
   "id": "6b73f523-0e33-403f-bf0e-7a25aa95fa6c",
   "metadata": {},
   "source": [
    "### Training pipeline\n",
    "\n",
    "1) Design model (input, output size, forward pass)\n",
    "2) Construct loss and optimizer\n",
    "3) Training loop\n",
    "     * Forward pass: Compute prediction\n",
    "     * Backward pass: Compute gradients\n",
    "     * Update weights"
   ]
  },
  {
   "cell_type": "code",
   "execution_count": 2,
   "id": "ec50e8c6-8672-489b-809e-cc127702dbe3",
   "metadata": {},
   "outputs": [],
   "source": [
    "# Metal device enables running the code on the GPU on MacOS (analogous to CUDA)\n",
    "device = torch.device(\"mps\")"
   ]
  },
  {
   "cell_type": "code",
   "execution_count": 8,
   "id": "a82058a9-d8d9-4d54-9c11-f6151eb418f7",
   "metadata": {},
   "outputs": [
    {
     "data": {
      "text/plain": [
       "array([2., 2., 2., 2., 2.], dtype=float32)"
      ]
     },
     "execution_count": 8,
     "metadata": {},
     "output_type": "execute_result"
    }
   ],
   "source": [
    "x = torch.ones(5, device=device)\n",
    "y = torch.ones(5)\n",
    "y = y.to(device)\n",
    "\n",
    "z = x+y\n",
    "\n",
    "# move the tensor back to the CPU for numpy conversion\n",
    "z = z.to(\"cpu\")\n",
    "\n",
    "z.numpy()\n",
    "\n",
    "# requires_grad = True for variables that should be optimized"
   ]
  },
  {
   "cell_type": "code",
   "execution_count": 4,
   "id": "4724734a-85df-4438-b9e4-288f9d5ac61d",
   "metadata": {},
   "outputs": [
    {
     "name": "stdout",
     "output_type": "stream",
     "text": [
      "CNN(\n",
      "  (conv1): Conv2d(3, 16, kernel_size=(3, 3), stride=(1, 1), padding=(1, 1))\n",
      "  (conv2): Conv2d(16, 32, kernel_size=(3, 3), stride=(1, 1), padding=(1, 1))\n",
      "  (conv3): Conv2d(32, 64, kernel_size=(3, 3), stride=(1, 1), padding=(1, 1))\n",
      "  (pool): MaxPool2d(kernel_size=2, stride=2, padding=0, dilation=1, ceil_mode=False)\n",
      "  (fc): Linear(in_features=1024, out_features=10, bias=True)\n",
      ")\n"
     ]
    },
    {
     "data": {
      "text/plain": [
       "CNN(\n",
       "  (conv1): Conv2d(3, 16, kernel_size=(3, 3), stride=(1, 1), padding=(1, 1))\n",
       "  (conv2): Conv2d(16, 32, kernel_size=(3, 3), stride=(1, 1), padding=(1, 1))\n",
       "  (conv3): Conv2d(32, 64, kernel_size=(3, 3), stride=(1, 1), padding=(1, 1))\n",
       "  (pool): MaxPool2d(kernel_size=2, stride=2, padding=0, dilation=1, ceil_mode=False)\n",
       "  (fc): Linear(in_features=1024, out_features=10, bias=True)\n",
       ")"
      ]
     },
     "execution_count": 4,
     "metadata": {},
     "output_type": "execute_result"
    }
   ],
   "source": [
    "class CNN(nn.Module):\n",
    "    def __init__(self):\n",
    "        super(CNN, self).__init__()\n",
    "        # First convolutional layer taking 1 input channel (image), 16 output channels, kernel size 3\n",
    "        self.conv1 = nn.Conv2d(3, 16, kernel_size=3, padding=1)\n",
    "        # Second convolutional layer, taking 16 input channels, outputting 32 channels, kernel size 3\n",
    "        self.conv2 = nn.Conv2d(16, 32, kernel_size=3, padding=1)\n",
    "        # Third convolutional layer, taking 32 input channels, outputting 64 channels, kernel size 3\n",
    "        self.conv3 = nn.Conv2d(32, 64, kernel_size=3, padding=1)\n",
    "        # A MaxPooling Layer to reduce the spatial dimensions of the output from convolutional layers\n",
    "        self.pool = nn.MaxPool2d(2, 2)\n",
    "        # Fully connected layer taking the flattened output from the last convolutional layer and outputting 10 classes\n",
    "        # (for CIFAR-10, for example)\n",
    "        self.fc = nn.Linear(64 * 4 * 4, 10)  # Assuming the input size to the network is 32x32 pixels\n",
    "\n",
    "    def forward(self, x):\n",
    "        # Apply convolutions followed by batch normalization, a ReLU activation, and max pooling\n",
    "        x = self.pool(F.relu(self.conv1(x)))\n",
    "        x = self.pool(F.relu(self.conv2(x)))\n",
    "        x = self.pool(F.relu(self.conv3(x)))\n",
    "        # Flatten the output for the fully connected layer\n",
    "        x = x.view(-1, 64 * 4 * 4)\n",
    "        x = self.fc(x)\n",
    "        return x\n",
    "\n",
    "# Example of using the model\n",
    "model = CNN()\n",
    "print(model)\n",
    "\n",
    "model.to(device)"
   ]
  },
  {
   "cell_type": "code",
   "execution_count": null,
   "id": "f3d0f803-c2b1-4bc8-a2e7-6ba22ef76dec",
   "metadata": {},
   "outputs": [],
   "source": [
    "# prediction evaluations should not be part of the computational graph\n",
    "#with torch.no_grad():\n",
    "    "
   ]
  }
 ],
 "metadata": {
  "kernelspec": {
   "display_name": "Python 3 (ipykernel)",
   "language": "python",
   "name": "python3"
  },
  "language_info": {
   "codemirror_mode": {
    "name": "ipython",
    "version": 3
   },
   "file_extension": ".py",
   "mimetype": "text/x-python",
   "name": "python",
   "nbconvert_exporter": "python",
   "pygments_lexer": "ipython3",
   "version": "3.11.7"
  }
 },
 "nbformat": 4,
 "nbformat_minor": 5
}

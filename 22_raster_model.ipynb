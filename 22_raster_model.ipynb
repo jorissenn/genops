{
 "cells": [
  {
   "cell_type": "code",
   "execution_count": 1,
   "id": "f613cb6e-9dde-45a0-b730-a6883df55bb1",
   "metadata": {},
   "outputs": [],
   "source": [
    "import math\n",
    "import torch\n",
    "import torch.nn as nn\n",
    "import torch.nn.functional as F\n",
    "import torchvision\n",
    "import torchvision.transforms as transforms\n",
    "from torch.utils.data import Dataset, DataLoader\n",
    "#from torchview import draw_graph\n",
    "import matplotlib.pyplot as plt\n",
    "import numpy as np\n",
    "from auxiliary.visualization import plot_raster"
   ]
  },
  {
   "cell_type": "code",
   "execution_count": 2,
   "id": "efb5a9c3-c82b-49fb-8cce-dd26809ce1af",
   "metadata": {},
   "outputs": [],
   "source": [
    "# Metal device enables running the code on the GPU on MacOS (analogous to CUDA)\n",
    "device = torch.device(\"mps\")"
   ]
  },
  {
   "cell_type": "markdown",
   "id": "70af7673-18d4-4d02-b65b-7b50406faed5",
   "metadata": {},
   "source": [
    "### Loading the data"
   ]
  },
  {
   "cell_type": "code",
   "execution_count": 3,
   "id": "9dda95da-6983-416f-b00f-fbe4bd018f8d",
   "metadata": {},
   "outputs": [],
   "source": [
    "# Setting up a Dataset object for DataLoader\n",
    "class BuildingRasterDataset(Dataset):\n",
    "    def __init__(self, path, transform=None):\n",
    "        '''Loads the data'''\n",
    "        # Read raster maps\n",
    "        blocks_rasterized = np.load(f\"{path}/blocks_rasterized.npy\")\n",
    "        contexts_rasterized = np.load(f\"{path}/contexts_rasterized.npy\")\n",
    "        targets_rasterized = np.load(f\"{path}/targets_rasterized.npy\")\n",
    "        # Read generalization operators, specified in the following order\n",
    "        # [\"deletion\", \"aggregation\", \"typification\", \"displacement\", \"enlargement\", \"simplification\"]\n",
    "        targets_genops = np.load(f\"{path}/targets_genops.npy\")\n",
    "        # Read target uuids\n",
    "        self.uuid = np.load(f\"{path}/targets_uuids.npy\")\n",
    "\n",
    "        # Check whether all parts have the same dimensionality\n",
    "        assert blocks_rasterized.shape[0] == contexts_rasterized.shape[0] == targets_rasterized.shape[0] \\\n",
    "                == targets_genops.shape[0] == self.uuid.shape[0]\n",
    "\n",
    "        # Convert numpy array to tensor and add singleton dimension / channel for rasters (binary raster)\n",
    "        # now they have shape (n_samples, 1, height, width)\n",
    "        self.block = torch.from_numpy(blocks_rasterized).unsqueeze(1)\n",
    "        self.context = torch.from_numpy(contexts_rasterized).unsqueeze(1)\n",
    "        self.target = torch.from_numpy(targets_rasterized).unsqueeze(1)\n",
    "        self.genops = torch.from_numpy(targets_genops)\n",
    "\n",
    "        # store number of samples\n",
    "        self.n_samples = self.uuid.shape[0]\n",
    "\n",
    "        # store transformation\n",
    "        self.transform = transform\n",
    "\n",
    "    def __getitem__(self, index):\n",
    "        '''Enables indexing, returns uuid, target, context and block raster as features and generalization operators as label'''\n",
    "        uuid = self.uuid[index]\n",
    "        target = self.target[index]\n",
    "        context = self.context[index]\n",
    "        block = self.block[index]\n",
    "        genops = self.genops[index]\n",
    "\n",
    "        # apply given transformations to the rasters\n",
    "        # TODO: how can a random transformation be uniformly applied to all three rasters? E.g. all rotated in the same direction?\n",
    "        if self.transform:\n",
    "            target = self.transform(target)\n",
    "            context = self.transform(context)\n",
    "            block = self.transform(block)\n",
    "\n",
    "        return uuid, target, context, block, genops\n",
    "        \n",
    "    def __len__(self):\n",
    "        '''Enables dataset length calculation'''\n",
    "        return self.n_samples"
   ]
  },
  {
   "cell_type": "code",
   "execution_count": null,
   "id": "ab2d32f2-9893-40f0-9c3e-a346c26bdafa",
   "metadata": {},
   "outputs": [],
   "source": [
    "# Ensures that the same transform is applied to target, context and block\n",
    "class SameTransform:\n",
    "    def __init__(self):\n",
    "        # Initialize with the transformations you want to use\n",
    "        self.rotation = transforms.RandomRotation(degrees=(0, 360))\n",
    "        self.flip = transforms.RandomHorizontalFlip(p=0.5)\n",
    "\n",
    "    def __call__(self, imgs):\n",
    "        # Apply the same random transformation to all images\n",
    "        angle = self.rotation.get_params(self.rotation.degrees)\n",
    "        flip_prob = torch.rand(1).item()\n",
    "\n",
    "        transformed_imgs = []\n",
    "        for img in imgs:\n",
    "            transformed_img = transforms.functional.rotate(img, angle)\n",
    "            if flip_prob > 0.5:\n",
    "                transformed_img = transforms.functional.hflip(transformed_img)\n",
    "            transformed_imgs.append(transformed_img)\n",
    "\n",
    "        return transformed_imgs"
   ]
  },
  {
   "cell_type": "markdown",
   "id": "6b73f523-0e33-403f-bf0e-7a25aa95fa6c",
   "metadata": {},
   "source": [
    "### Training pipeline\n",
    "\n",
    "1) Design model (input, output size, forward pass)\n",
    "2) Construct loss and optimizer\n",
    "3) Training loop\n",
    "     * Forward pass: Compute prediction\n",
    "     * Backward pass: Compute gradients\n",
    "     * Update weights"
   ]
  },
  {
   "cell_type": "markdown",
   "id": "f6e688e5-9a9b-45ab-a10c-02a15ad36770",
   "metadata": {},
   "source": [
    "### Model design"
   ]
  },
  {
   "cell_type": "code",
   "execution_count": 4,
   "id": "4724734a-85df-4438-b9e4-288f9d5ac61d",
   "metadata": {},
   "outputs": [
    {
     "name": "stdout",
     "output_type": "stream",
     "text": [
      "CNN(\n",
      "  (conv1): Conv2d(3, 16, kernel_size=(3, 3), stride=(1, 1), padding=(1, 1))\n",
      "  (conv2): Conv2d(16, 32, kernel_size=(3, 3), stride=(1, 1), padding=(1, 1))\n",
      "  (conv3): Conv2d(32, 64, kernel_size=(3, 3), stride=(1, 1), padding=(1, 1))\n",
      "  (pool): MaxPool2d(kernel_size=2, stride=2, padding=0, dilation=1, ceil_mode=False)\n",
      "  (fc): Linear(in_features=1024, out_features=10, bias=True)\n",
      ")\n"
     ]
    },
    {
     "data": {
      "text/plain": [
       "CNN(\n",
       "  (conv1): Conv2d(3, 16, kernel_size=(3, 3), stride=(1, 1), padding=(1, 1))\n",
       "  (conv2): Conv2d(16, 32, kernel_size=(3, 3), stride=(1, 1), padding=(1, 1))\n",
       "  (conv3): Conv2d(32, 64, kernel_size=(3, 3), stride=(1, 1), padding=(1, 1))\n",
       "  (pool): MaxPool2d(kernel_size=2, stride=2, padding=0, dilation=1, ceil_mode=False)\n",
       "  (fc): Linear(in_features=1024, out_features=10, bias=True)\n",
       ")"
      ]
     },
     "execution_count": 4,
     "metadata": {},
     "output_type": "execute_result"
    }
   ],
   "source": [
    "class CNN(nn.Module):\n",
    "    def __init__(self):\n",
    "        super(CNN, self).__init__()\n",
    "        # First convolutional layer taking 1 input channel (image), 16 output channels, kernel size 3\n",
    "        self.conv1 = nn.Conv2d(3, 16, kernel_size=3, padding=1)\n",
    "        # Second convolutional layer, taking 16 input channels, outputting 32 channels, kernel size 3\n",
    "        self.conv2 = nn.Conv2d(16, 32, kernel_size=3, padding=1)\n",
    "        # Third convolutional layer, taking 32 input channels, outputting 64 channels, kernel size 3\n",
    "        self.conv3 = nn.Conv2d(32, 64, kernel_size=3, padding=1)\n",
    "        # A MaxPooling Layer to reduce the spatial dimensions of the output from convolutional layers\n",
    "        self.pool = nn.MaxPool2d(2, 2)\n",
    "        # Fully connected layer taking the flattened output from the last convolutional layer and outputting 10 classes\n",
    "        # (for CIFAR-10, for example)\n",
    "        self.fc = nn.Linear(64 * 4 * 4, 10)  # Assuming the input size to the network is 32x32 pixels\n",
    "\n",
    "    def forward(self, x):\n",
    "        # Apply convolutions followed by batch normalization, a ReLU activation, and max pooling\n",
    "        x = self.pool(F.relu(self.conv1(x)))\n",
    "        x = self.pool(F.relu(self.conv2(x)))\n",
    "        x = self.pool(F.relu(self.conv3(x)))\n",
    "        # Flatten the output for the fully connected layer\n",
    "        x = x.view(-1, 64 * 4 * 4)\n",
    "        x = self.fc(x)\n",
    "        return x\n",
    "\n",
    "# Example of using the model\n",
    "model = CNN()\n",
    "print(model)\n",
    "\n",
    "model.to(device)"
   ]
  },
  {
   "cell_type": "markdown",
   "id": "c7ad2f78-e07d-4922-b9f3-b81ba80b9385",
   "metadata": {},
   "source": [
    "### Training loop"
   ]
  },
  {
   "cell_type": "code",
   "execution_count": 5,
   "id": "67ac2819-465a-4faa-a8e7-5e2cde507c4c",
   "metadata": {},
   "outputs": [],
   "source": [
    "num_epochs = 10\n",
    "batch_size = 4\n",
    "\n",
    "# Transformations for the input rasters\n",
    "transform = transforms.Compose(\n",
    "    [transforms.RandomRotation(degrees=(0, 360)),\n",
    "     transforms.RandomHorizontalFlip()])\n",
    "\n",
    "dataset = BuildingRasterDataset(\"../training_samples.nosync/raster\", transform=transform)\n",
    "dataloader = DataLoader(dataset=dataset, batch_size=batch_size, shuffle=True)\n",
    "\n",
    "total_samples = len(dataset)\n",
    "n_iterations = math.ceil(total_samples/batch_size)\n",
    "\n",
    "for epoch in range(num_epochs):\n",
    "    for i, (uuid, target, context, block, genops) in enumerate(dataloader): \n",
    "        #print(uuid[0])\n",
    "        #plot_raster(target.numpy()[0, 0])\n",
    "        #plot_raster(context.numpy()[0, 0])\n",
    "        #plot_raster(block.numpy()[0, 0])\n",
    "        \n",
    "        if not (i + 1) % 5:\n",
    "            print(f\"epoch {epoch+1}/{num_epochs}, step {i+1}/{n_iterations}\")"
   ]
  },
  {
   "cell_type": "code",
   "execution_count": null,
   "id": "f3d0f803-c2b1-4bc8-a2e7-6ba22ef76dec",
   "metadata": {},
   "outputs": [],
   "source": [
    "# prediction evaluations should not be part of the computational graph\n",
    "#with torch.no_grad():    "
   ]
  }
 ],
 "metadata": {
  "kernelspec": {
   "display_name": "Python 3 (ipykernel)",
   "language": "python",
   "name": "python3"
  },
  "language_info": {
   "codemirror_mode": {
    "name": "ipython",
    "version": 3
   },
   "file_extension": ".py",
   "mimetype": "text/x-python",
   "name": "python",
   "nbconvert_exporter": "python",
   "pygments_lexer": "ipython3",
   "version": "3.11.7"
  }
 },
 "nbformat": 4,
 "nbformat_minor": 5
}

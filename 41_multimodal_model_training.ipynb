{
 "cells": [
  {
   "cell_type": "code",
   "execution_count": 1,
   "id": "268a3989-b0f0-4496-8567-e4435c5aa980",
   "metadata": {
    "execution": {
     "iopub.execute_input": "2024-10-15T20:34:41.730689Z",
     "iopub.status.busy": "2024-10-15T20:34:41.730146Z",
     "iopub.status.idle": "2024-10-15T20:34:45.240049Z",
     "shell.execute_reply": "2024-10-15T20:34:45.239500Z",
     "shell.execute_reply.started": "2024-10-15T20:34:41.730656Z"
    }
   },
   "outputs": [],
   "source": [
    "import sys\n",
    "sys.path.append(\"models/raster\")\n",
    "sys.path.append(\"models/vector\")\n",
    "sys.path.append(\"models/multimodal\")\n",
    "\n",
    "import os\n",
    "import numpy as np\n",
    "import pandas as pd\n",
    "import matplotlib.pyplot as plt\n",
    "import torch\n",
    "import torch.nn as nn\n",
    "\n",
    "from auxiliary.visualization import visualize_losses, visualize_multiple_losses\n",
    "from auxiliary.misc import send_notification, get_model_name\n",
    "\n",
    "from initialize_raster import load_trained_raster_model\n",
    "\n",
    "from initialize_vector import load_trained_vector_model\n",
    "from dataset_vector import get_dummy_sample\n",
    "from features import important_features\n",
    "\n",
    "from initialize_multimodal import get_constituent_model_filenames\n",
    "from dataset_multimodal import BuildingMultimodalDataset\n",
    "from model_multimodal import MultimodalModel\n",
    "from train_multimodal import train_multimodal_model\n",
    "\n",
    "from models.operators import elimination_operators, selection_operators"
   ]
  },
  {
   "cell_type": "code",
   "execution_count": 2,
   "id": "34a35964-d8f1-45ba-916e-95d50830db40",
   "metadata": {
    "execution": {
     "iopub.execute_input": "2024-10-15T20:34:45.248382Z",
     "iopub.status.busy": "2024-10-15T20:34:45.248160Z",
     "iopub.status.idle": "2024-10-15T20:34:45.251065Z",
     "shell.execute_reply": "2024-10-15T20:34:45.250359Z",
     "shell.execute_reply.started": "2024-10-15T20:34:45.248360Z"
    }
   },
   "outputs": [],
   "source": [
    "# defining a seed for reproducible results\n",
    "np.random.seed(69)"
   ]
  },
  {
   "cell_type": "code",
   "execution_count": 3,
   "id": "23f8630a-e832-4fea-b0cf-fef86e34b62a",
   "metadata": {
    "execution": {
     "iopub.execute_input": "2024-10-15T20:34:45.252901Z",
     "iopub.status.busy": "2024-10-15T20:34:45.252683Z",
     "iopub.status.idle": "2024-10-15T20:34:45.261634Z",
     "shell.execute_reply": "2024-10-15T20:34:45.261156Z",
     "shell.execute_reply.started": "2024-10-15T20:34:45.252879Z"
    }
   },
   "outputs": [
    {
     "name": "stdout",
     "output_type": "stream",
     "text": [
      "Device set to: cuda\n"
     ]
    }
   ],
   "source": [
    "# Check if CUDA is available, otherwise use CPU\n",
    "if torch.cuda.is_available():\n",
    "    device = torch.device(\"cuda\")\n",
    "    torch.cuda.empty_cache()\n",
    "    # cluster path\n",
    "    raster_path = \"../scratch/raster\"\n",
    "    vector_path = \"../scratch/vector\"\n",
    "    multimodal_path = \"../scratch/multimodal\"\n",
    "else:\n",
    "    device = torch.device(\"cpu\")\n",
    "    # local path\n",
    "    raster_path = \"../data.nosync/raster\"\n",
    "    vector_path = \"../data.nosync/vector\"\n",
    "    multimodal_path = \"../data.nosync/multimodal\"\n",
    "\n",
    "print(f\"Device set to: {device}\")"
   ]
  },
  {
   "cell_type": "code",
   "execution_count": 4,
   "id": "737ec790-06d8-49e5-a93f-3fad641d9b3b",
   "metadata": {
    "execution": {
     "iopub.execute_input": "2024-10-15T20:34:45.262864Z",
     "iopub.status.busy": "2024-10-15T20:34:45.262381Z",
     "iopub.status.idle": "2024-10-15T20:34:45.270223Z",
     "shell.execute_reply": "2024-10-15T20:34:45.269757Z",
     "shell.execute_reply.started": "2024-10-15T20:34:45.262841Z"
    }
   },
   "outputs": [],
   "source": [
    "# Define DIN font for plots if working locally\n",
    "if not torch.cuda.is_available():\n",
    "    plt.rcParams[\"font.family\"] = \"DIN Alternate\""
   ]
  },
  {
   "cell_type": "code",
   "execution_count": 5,
   "id": "bff9e463-6270-4a2e-95d4-889e970085bd",
   "metadata": {
    "execution": {
     "iopub.execute_input": "2024-10-15T20:34:45.271443Z",
     "iopub.status.busy": "2024-10-15T20:34:45.271201Z",
     "iopub.status.idle": "2024-10-15T20:34:45.283094Z",
     "shell.execute_reply": "2024-10-15T20:34:45.282651Z",
     "shell.execute_reply.started": "2024-10-15T20:34:45.271421Z"
    }
   },
   "outputs": [],
   "source": [
    "def load_training_validation_multimodal_dataset(operator_model, operators_to_predict, features, attach_roads, subset):\n",
    "    '''Loads the training and validation dataset for the given model.'''\n",
    "    # define path to training and validation data\n",
    "    path_to_raster_training_data = os.path.join(raster_path, \"training_data\", operator_model, \"training\")\n",
    "    path_to_vector_training_data = os.path.join(vector_path, \"training_data\", operator_model, \"training\")\n",
    "    path_to_raster_validation_data = os.path.join(raster_path, \"training_data\", operator_model, \"validation\")\n",
    "    path_to_vector_validation_data = os.path.join(vector_path, \"training_data\", operator_model, \"validation\")\n",
    "\n",
    "    # construct training Dataset\n",
    "    training_set = BuildingMultimodalDataset(path_to_raster_training_data, \n",
    "                                             path_to_vector_training_data, \n",
    "                                             operators=operators_to_predict,\n",
    "                                             features=features,\n",
    "                                             attach_roads=attach_roads,\n",
    "                                             raster_transform=None,\n",
    "                                             vector_transform=None,\n",
    "                                             subset=subset)\n",
    "    \n",
    "    # construct validation Dataset (no shuffling)\n",
    "    validation_set = BuildingMultimodalDataset(path_to_raster_validation_data, \n",
    "                                               path_to_vector_validation_data, \n",
    "                                               operators=operators_to_predict,\n",
    "                                               features=features,\n",
    "                                               attach_roads=attach_roads,\n",
    "                                               raster_transform=None,\n",
    "                                               vector_transform=None,\n",
    "                                               subset=subset)\n",
    "\n",
    "    return training_set, validation_set\n",
    "\n",
    "def conduct_multimodal_model_training(architecture, operator_model, attach_roads, n_epochs, batch_size, device, subset=None):\n",
    "    '''Given an architecture, model and further parameters, conducts a full training routine of the multimodal model.\n",
    "    The loss history and the model are saved to disk.'''\n",
    "    assert operator_model in (\"elimination\", \"selection\")\n",
    "    operators_to_predict = elimination_operators if operator_model == \"elimination\" else selection_operators\n",
    "\n",
    "    # extract individual architectures\n",
    "    architecture_raster, architecture_vector = architecture.split(\"+\")[0], architecture.split(\"+\")[1]\n",
    "    assert architecture_raster in (\"cnn\", \"vit\")\n",
    "    assert architecture_vector in (\"hgnn\", \"hgt\")\n",
    "\n",
    "    # get the filenames of the trained constituent models\n",
    "    raster_model_filename, vector_model_filename = get_constituent_model_filenames(architecture, operator_model, attach_roads)\n",
    "\n",
    "    # define important features\n",
    "    features = important_features[f\"{architecture_vector.upper()} {operator_model}\"]\n",
    "\n",
    "    # load training and validation data\n",
    "    training_set, validation_set = load_training_validation_multimodal_dataset(operator_model=operator_model, \n",
    "                                                                               operators_to_predict=operators_to_predict, \n",
    "                                                                               features=features, \n",
    "                                                                               attach_roads=attach_roads, \n",
    "                                                                               subset=subset)\n",
    "    \n",
    "    # extracting dummy raster sample for initializing models\n",
    "    dummy_raster_sample = training_set[0][0].to(device)\n",
    "    \n",
    "    print(f\"{len(training_set):,} samples in the training set.\")\n",
    "    print(f\"{len(validation_set):,} samples in the validation set.\")\n",
    "                \n",
    "    # load the trained raster model\n",
    "    raster_model = load_trained_raster_model(raster_model_filename, raster_path, device)\n",
    "\n",
    "    # load trained vector model\n",
    "    vector_model = load_trained_vector_model(vector_model_filename, vector_path, device)\n",
    "\n",
    "    # load dummy vector sample for initializing models\n",
    "    dummy_vector_sample_path = os.path.join(vector_path, \"training_data\", \"dummy_sample.pt\")\n",
    "    dummy_vector_sample = get_dummy_sample(dummy_vector_sample_path, \n",
    "                                           operators=operators_to_predict, \n",
    "                                           features=features, \n",
    "                                           attach_roads=attach_roads)\n",
    "    dummy_vector_sample = dummy_vector_sample.to(device)\n",
    "\n",
    "    # initialize multimodal model\n",
    "    model = MultimodalModel(raster_model=raster_model, \n",
    "                            vector_model=vector_model, \n",
    "                            dummy_raster_sample=dummy_raster_sample, \n",
    "                            dummy_vector_sample=dummy_vector_sample, \n",
    "                            n_classes=len(operators_to_predict))\n",
    "\n",
    "    model.to(device)\n",
    "    print(f\"Using {model}\")\n",
    "\n",
    "    # get loss function and optimizer\n",
    "    learning_rate = 0.0005\n",
    "    criterion = nn.BCEWithLogitsLoss() # Binary cross-entropy loss, applies a sigmoid internally and takes logits as input\n",
    "    optimizer = torch.optim.Adam(model.parameters(), lr=learning_rate)\n",
    "\n",
    "    # training the model\n",
    "    model, training_losses, validation_losses, training_time = train_multimodal_model(model=model, \n",
    "                                                                                      device=device, \n",
    "                                                                                      optimizer=optimizer, \n",
    "                                                                                      criterion=criterion, \n",
    "                                                                                      n_epochs=n_epochs, \n",
    "                                                                                      batch_size=batch_size, \n",
    "                                                                                      validate=True, \n",
    "                                                                                      training_set=training_set, \n",
    "                                                                                      validation_set=validation_set, \n",
    "                                                                                      shuffle_training_set=True, \n",
    "                                                                                      shuffle_validation_set=False)\n",
    "    \n",
    "    # get a unique model name\n",
    "    model_name = get_model_name(model, ops=operator_model[:3], attach_roads=attach_roads, n_samples=len(training_set), n_epochs=n_epochs, \n",
    "                                batch_size=batch_size, device=device)\n",
    "    \n",
    "    # saving the losses\n",
    "    model_name_csv = model_name + \".csv\"\n",
    "    losses_path = os.path.join(multimodal_path, \"model_outputs\", operator_model, \"losses\", model_name_csv)\n",
    "    \n",
    "    # creating a DataFrame with loss values\n",
    "    losses_df = pd.DataFrame({\"epoch\": list(range(1, n_epochs+1)), \n",
    "                              \"training_loss\": training_losses, \n",
    "                              \"validation_loss\": validation_losses})\n",
    "    \n",
    "    # save to CSV\n",
    "    losses_df.to_csv(losses_path, index=False)\n",
    "    \n",
    "    # if working on ScienceCluster, send notification that training has finished\n",
    "    if torch.cuda.is_available():\n",
    "        send_notification(model=model, \n",
    "                          email_address=\"joris.senn@uzh.ch\", \n",
    "                          n_samples=len(training_set), \n",
    "                          n_epochs=n_epochs, \n",
    "                          batch_size=batch_size, \n",
    "                          time=training_time)\n",
    "    \n",
    "    # save the trained model to disk\n",
    "    path_to_models = os.path.join(multimodal_path, \"models\", operator_model)\n",
    "    model_name_pth = model_name + \".pth\"\n",
    "    torch.save({\"epoch\": n_epochs,\n",
    "                \"model_state_dict\": model.state_dict(),\n",
    "                \"optimizer_state_dict\": optimizer.state_dict(),\n",
    "                \"loss\": criterion,\n",
    "                }, os.path.join(path_to_models, model_name_pth))\n",
    "\n",
    "    loss_path = os.path.join(multimodal_path, \"model_outputs\", operator_model, \"losses\")\n",
    "    visualize_losses(model_name_csv, loss_path)"
   ]
  },
  {
   "cell_type": "markdown",
   "id": "1cf4f96a-b9c1-486e-b07d-a83c885ac113",
   "metadata": {},
   "source": [
    "## Elimination model"
   ]
  },
  {
   "cell_type": "code",
   "execution_count": 6,
   "id": "48cf2d90-a431-4977-bbda-1e856947fddc",
   "metadata": {
    "execution": {
     "iopub.execute_input": "2024-10-15T20:34:45.283793Z",
     "iopub.status.busy": "2024-10-15T20:34:45.283639Z",
     "iopub.status.idle": "2024-10-15T20:34:45.293069Z",
     "shell.execute_reply": "2024-10-15T20:34:45.292623Z",
     "shell.execute_reply.started": "2024-10-15T20:34:45.283779Z"
    }
   },
   "outputs": [],
   "source": [
    "# architecture: CNN + HGNN, CNN + HGT, ViT + HGNN, ViT + HGT\n",
    "architecture = \"cnn+hgnn\"\n",
    "# define whether roads should be attached\n",
    "attach_roads = True\n",
    "# number of epochs\n",
    "n_epochs = 2\n",
    "# batch size to use for training\n",
    "batch_size = 16\n",
    "\n",
    "assert architecture in (\"cnn+hgnn\", \"cnn+hgt\", \"vit+hgnn\", \"vit+hgt\")"
   ]
  },
  {
   "cell_type": "code",
   "execution_count": 7,
   "id": "5bfd0732-8bc9-47cf-9e20-3a5735012724",
   "metadata": {
    "execution": {
     "iopub.execute_input": "2024-10-15T20:34:46.524135Z",
     "iopub.status.busy": "2024-10-15T20:34:46.523729Z",
     "iopub.status.idle": "2024-10-15T20:35:06.085812Z",
     "shell.execute_reply": "2024-10-15T20:35:06.085127Z",
     "shell.execute_reply.started": "2024-10-15T20:34:46.524112Z"
    }
   },
   "outputs": [
    {
     "name": "stdout",
     "output_type": "stream",
     "text": [
      "1,000 samples in the training set.\n",
      "1,000 samples in the validation set.\n",
      "Raster model successfully loaded.\n",
      "Number of node features: {'focal_building': 2, 'context_building': 2, 'road': 2}, 1 operators\n",
      "Vector model successfully loaded.\n",
      "Using Multimodal Model with 4,556,993 parameters consisting of\n",
      "        raster model (CNN) with 2,469,696 parameters and \n",
      "        vector model (HGNN) with 465,024 parameters.\n",
      "epoch 1/2, step 6/63\n",
      "epoch 1/2, step 12/63\n",
      "epoch 1/2, step 18/63\n",
      "epoch 1/2, step 24/63\n",
      "epoch 1/2, step 30/63\n",
      "epoch 1/2, step 36/63\n",
      "epoch 1/2, step 42/63\n",
      "epoch 1/2, step 48/63\n",
      "epoch 1/2, step 54/63\n",
      "epoch 1/2, step 60/63\n",
      "epoch 1 finished, training loss: 0.619, validation loss: 0.599\n",
      "epoch 2/2, step 6/63\n",
      "epoch 2/2, step 12/63\n",
      "epoch 2/2, step 18/63\n",
      "epoch 2/2, step 24/63\n",
      "epoch 2/2, step 30/63\n",
      "epoch 2/2, step 36/63\n",
      "epoch 2/2, step 42/63\n",
      "epoch 2/2, step 48/63\n",
      "epoch 2/2, step 54/63\n",
      "epoch 2/2, step 60/63\n",
      "epoch 2 finished, training loss: 0.547, validation loss: 0.601\n",
      "Training time: 18.267 seconds\n"
     ]
    },
    {
     "data": {
      "image/png": "[encoded data removed]",
      "text/plain": [
       "<Figure size 1000x600 with 1 Axes>"
      ]
     },
     "metadata": {},
     "output_type": "display_data"
    }
   ],
   "source": [
    "# conduct multimodal model training according to specifications\n",
    "conduct_multimodal_model_training(architecture=architecture, \n",
    "                                  operator_model=\"elimination\", \n",
    "                                  attach_roads=attach_roads, \n",
    "                                  n_epochs=n_epochs, \n",
    "                                  batch_size=batch_size, \n",
    "                                  device=device, \n",
    "                                  subset=1000)"
   ]
  },
  {
   "cell_type": "markdown",
   "id": "af1c8169-24e1-4261-ae05-69c411866c45",
   "metadata": {},
   "source": [
    "## Multi-operator model"
   ]
  },
  {
   "cell_type": "code",
   "execution_count": 8,
   "id": "8393f5d8-6a42-44e2-ba56-24660e3412f6",
   "metadata": {},
   "outputs": [],
   "source": [
    "# architecture: CNN + HGNN, CNN + HGT, ViT + HGNN, ViT + HGT\n",
    "architecture = \"cnn+hgnn\"\n",
    "# define whether roads should be attached\n",
    "attach_roads = True\n",
    "# number of epochs\n",
    "n_epochs = 25\n",
    "# batch size to use for training\n",
    "batch_size = 512\n",
    "\n",
    "assert architecture in (\"cnn+hgnn\", \"cnn+hgt\", \"vit+hgnn\", \"vit+hgt\")"
   ]
  },
  {
   "cell_type": "code",
   "execution_count": 9,
   "id": "9913c7be-32e7-438a-a9d4-98b2af36730d",
   "metadata": {},
   "outputs": [
    {
     "name": "stdout",
     "output_type": "stream",
     "text": [
      "1,000 samples in the training set.\n",
      "1,000 samples in the validation set.\n",
      "Raster model successfully loaded.\n",
      "Number of node features: {'focal_building': 9, 'context_building': 9, 'road': 2}, 4 operators\n",
      "Vector model successfully loaded.\n",
      "Using Multimodal Model with 21,323,140 parameters consisting of\n",
      "        raster model (ViT) with 20,520,448 parameters and \n",
      "        vector model (HGNN) with 473,984 parameters.\n",
      "epoch 1/2, step 6/63\n",
      "epoch 1/2, step 12/63\n",
      "epoch 1/2, step 18/63\n",
      "epoch 1/2, step 24/63\n",
      "epoch 1/2, step 30/63\n",
      "epoch 1/2, step 36/63\n",
      "epoch 1/2, step 42/63\n",
      "epoch 1/2, step 48/63\n",
      "epoch 1/2, step 54/63\n",
      "epoch 1/2, step 60/63\n",
      "epoch 1 finished, training loss: 0.542, validation loss: 0.476\n",
      "epoch 2/2, step 6/63\n",
      "epoch 2/2, step 12/63\n",
      "epoch 2/2, step 18/63\n",
      "epoch 2/2, step 24/63\n",
      "epoch 2/2, step 30/63\n",
      "epoch 2/2, step 36/63\n",
      "epoch 2/2, step 42/63\n",
      "epoch 2/2, step 48/63\n",
      "epoch 2/2, step 54/63\n",
      "epoch 2/2, step 60/63\n",
      "epoch 2 finished, training loss: 0.459, validation loss: 0.468\n",
      "Training time: 22.536 seconds\n"
     ]
    },
    {
     "data": {
      "image/png": "[encoded data removed]",
      "text/plain": [
       "<Figure size 1000x600 with 1 Axes>"
      ]
     },
     "metadata": {},
     "output_type": "display_data"
    }
   ],
   "source": [
    "# conduct multimodal model training according to specifications\n",
    "conduct_multimodal_model_training(architecture=architecture, \n",
    "                                  operator_model=\"selection\", \n",
    "                                  attach_roads=attach_roads, \n",
    "                                  n_epochs=n_epochs, \n",
    "                                  batch_size=batch_size, \n",
    "                                  device=device, \n",
    "                                  subset=None)"
   ]
  },
  {
   "cell_type": "markdown",
   "id": "9f81ffaf-7919-4894-8f42-0862bf8fb81c",
   "metadata": {},
   "source": [
    "## Loss curves of multimodal models"
   ]
  },
  {
   "cell_type": "code",
   "execution_count": null,
   "id": "cddc1926-3ed3-4728-9ffa-129e1ac725e5",
   "metadata": {},
   "outputs": [],
   "source": [
    "# loss path\n",
    "model_losses = []\n",
    "\n",
    "visualize_multiple_losses(model_losses, \n",
    "                          path_to_data=\"../data.nosync\", \n",
    "                          model=\"multimodal\", \n",
    "                          figsize=(6,5), \n",
    "                          save=True, \n",
    "                          output_path=\"../../Figures/Results/losses\")"
   ]
  }
 ],
 "metadata": {
  "kernelspec": {
   "display_name": "genops",
   "language": "python",
   "name": "genops"
  },
  "language_info": {
   "codemirror_mode": {
    "name": "ipython",
    "version": 3
   },
   "file_extension": ".py",
   "mimetype": "text/x-python",
   "name": "python",
   "nbconvert_exporter": "python",
   "pygments_lexer": "ipython3",
   "version": "3.11.6"
  }
 },
 "nbformat": 4,
 "nbformat_minor": 5
}

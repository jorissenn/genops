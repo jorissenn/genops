{
 "cells": [
  {
   "cell_type": "code",
   "execution_count": 8,
   "id": "57ff8fa9-bf9b-441f-8ec0-b8e49ddb17d6",
   "metadata": {},
   "outputs": [],
   "source": [
    "import os\n",
    "import numpy as np\n",
    "import matplotlib.pyplot as plt\n",
    "\n",
    "import torch\n",
    "import torch.nn as nn\n",
    "import torch.nn.functional as F\n",
    "\n",
    "import torch_geometric.nn as pyg_nn\n",
    "from torch_geometric.data import Dataset, DataLoader"
   ]
  },
  {
   "cell_type": "code",
   "execution_count": 9,
   "id": "1601ee72-44b2-4d93-be80-91f78fc93449",
   "metadata": {},
   "outputs": [],
   "source": [
    "# defining a seed for reproducible results\n",
    "np.random.seed(69)"
   ]
  },
  {
   "cell_type": "code",
   "execution_count": 10,
   "id": "727ac7aa-885f-47d4-abd3-8134fc28b5b3",
   "metadata": {},
   "outputs": [
    {
     "name": "stdout",
     "output_type": "stream",
     "text": [
      "Device set to: mps\n"
     ]
    }
   ],
   "source": [
    "# Check if CUDA is available, then MPS, otherwise use CPU\n",
    "if torch.cuda.is_available():\n",
    "    device = torch.device(\"cuda\")\n",
    "    torch.cuda.empty_cache()\n",
    "    # cluster path\n",
    "    raster_path = \"../scratch/vector\"\n",
    "elif torch.backends.mps.is_available():\n",
    "    device = torch.device(\"mps\")\n",
    "    # local path\n",
    "    raster_path = \"../data.nosync/vector\"\n",
    "else:\n",
    "    device = torch.device(\"cpu\")\n",
    "    # local path\n",
    "    raster_path = \"../data.nosync/vector\"\n",
    "\n",
    "print(f\"Device set to: {device}\")"
   ]
  },
  {
   "cell_type": "code",
   "execution_count": 11,
   "id": "0aa9a4b4-07d6-4121-8db4-63dc413c2156",
   "metadata": {},
   "outputs": [],
   "source": [
    "# operators are always specified in this order\n",
    "operator_order = (\"elimination\", \"aggregation\", \"typification\", \"displacement\", \"enlargement\", \"simplification\")"
   ]
  },
  {
   "cell_type": "code",
   "execution_count": 12,
   "id": "02b637e4-16aa-431f-8e36-bfee5730d3d8",
   "metadata": {},
   "outputs": [],
   "source": [
    "# Define DIN font for plots if working locally\n",
    "if not torch.cuda.is_available():\n",
    "    plt.rcParams[\"font.family\"] = \"DIN Alternate\""
   ]
  },
  {
   "cell_type": "markdown",
   "id": "b21ffaec-0dc4-4015-9793-2da90d41184a",
   "metadata": {},
   "source": [
    "### Loading the data"
   ]
  },
  {
   "cell_type": "code",
   "execution_count": 14,
   "id": "2db5da42-2c67-49bb-8cb6-13ad1f4a92cc",
   "metadata": {},
   "outputs": [],
   "source": [
    "# Setting up a Dataset object for DataLoader\n",
    "class BuildingVectorDataset(Dataset):\n",
    "    def __init__(self, path, transform=None):\n",
    "        # store directory of individual files\n",
    "        self.path = path\n",
    "        # get filenames of individual files\n",
    "        self.filenames = os.listdir(path)\n",
    "\n",
    "        # store transformation\n",
    "        self.transform = transform\n",
    "\n",
    "    def __len__(self):\n",
    "        return len(self.filenames)\n",
    "\n",
    "    def __getitem__(self, index):\n",
    "        # get filename associated with given index\n",
    "        filename = self.filenames[index]\n",
    "\n",
    "        # load the file with the filname\n",
    "        # graph = torch.load(os.path.join(self.path, filename))"
   ]
  },
  {
   "cell_type": "markdown",
   "id": "a4396e6b-bd1e-4b58-b0eb-1a6c29d6f965",
   "metadata": {},
   "source": [
    "### Model design"
   ]
  },
  {
   "cell_type": "code",
   "execution_count": null,
   "id": "8e452f80-a2c0-4eff-b934-d55a5744aa3b",
   "metadata": {},
   "outputs": [],
   "source": [
    "# Classification head"
   ]
  },
  {
   "cell_type": "code",
   "execution_count": null,
   "id": "243de668-d0c4-40f8-aa79-e083f96006c4",
   "metadata": {},
   "outputs": [],
   "source": [
    "class MultiLabelGCN(nn.Module):\n",
    "    def __init__(self, num_features, num_classes):\n",
    "        super(MultiLabelGCN, self).__init__()\n",
    "        self.conv1 = pyg_nn.GCNConv(num_features, 16)  # First GCN layer\n",
    "        self.conv2 = pyg_nn.GCNConv(16, num_classes)   # Second GCN layer maps to the number of classes\n",
    "\n",
    "    def forward(self, data):\n",
    "        x, edge_index = data.x, data.edge_index\n",
    "\n",
    "        # First GCN layer with ReLU activation\n",
    "        x = F.relu(self.conv1(x, edge_index))\n",
    "        x = F.dropout(x, training=self.training)  # Apply dropout during training\n",
    "\n",
    "        # Second GCN layer\n",
    "        x = self.conv2(x, edge_index)\n",
    "\n",
    "        # Apply sigmoid to output layer to get probabilities for each class\n",
    "        return torch.sigmoid(x)"
   ]
  },
  {
   "cell_type": "markdown",
   "id": "b2932ffd-4ace-4345-bc7e-0439b8d77444",
   "metadata": {},
   "source": [
    "### Elimination model"
   ]
  },
  {
   "cell_type": "markdown",
   "id": "0c6df50a-573b-4a4d-8d0d-44f50aeac2cf",
   "metadata": {},
   "source": [
    "### Selection model"
   ]
  },
  {
   "cell_type": "markdown",
   "id": "f6724956-c80c-4d63-b5be-6bcbb1a8a820",
   "metadata": {},
   "source": [
    "### Evaluation"
   ]
  },
  {
   "cell_type": "code",
   "execution_count": null,
   "id": "ea30077a-25ed-4ef0-beba-49228c8335ca",
   "metadata": {},
   "outputs": [],
   "source": [
    "# https://www.youtube.com/watch?v=-UjytpbqX4A at 1:06:00\n",
    "# --> Visualize node embeddings"
   ]
  }
 ],
 "metadata": {
  "kernelspec": {
   "display_name": "Python 3 (ipykernel)",
   "language": "python",
   "name": "python3"
  },
  "language_info": {
   "codemirror_mode": {
    "name": "ipython",
    "version": 3
   },
   "file_extension": ".py",
   "mimetype": "text/x-python",
   "name": "python",
   "nbconvert_exporter": "python",
   "pygments_lexer": "ipython3",
   "version": "3.11.7"
  }
 },
 "nbformat": 4,
 "nbformat_minor": 5
}

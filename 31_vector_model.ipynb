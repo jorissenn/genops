{
 "cells": [
  {
   "cell_type": "code",
   "execution_count": 1,
   "id": "57ff8fa9-bf9b-441f-8ec0-b8e49ddb17d6",
   "metadata": {},
   "outputs": [],
   "source": [
    "import os\n",
    "import math\n",
    "import numpy as np\n",
    "import pandas as pd\n",
    "import matplotlib.pyplot as plt\n",
    "import time\n",
    "\n",
    "import torch\n",
    "import torch.nn as nn\n",
    "import torch.nn.functional as F\n",
    "\n",
    "import torch_geometric.nn as pyg_nn\n",
    "import torch_geometric.transforms as transforms\n",
    "from torch_geometric.data import Dataset\n",
    "from torch_geometric.loader import DataLoader\n",
    "\n",
    "from sklearn.metrics import confusion_matrix, accuracy_score, precision_score, recall_score, f1_score\n",
    "\n",
    "from auxiliary.visualization import visualize_losses, visualize_confusion_matrix\n",
    "from auxiliary.misc import send_notification, get_model_name"
   ]
  },
  {
   "cell_type": "code",
   "execution_count": 2,
   "id": "1601ee72-44b2-4d93-be80-91f78fc93449",
   "metadata": {},
   "outputs": [],
   "source": [
    "# defining a seed for reproducible results\n",
    "np.random.seed(69)"
   ]
  },
  {
   "cell_type": "code",
   "execution_count": 3,
   "id": "727ac7aa-885f-47d4-abd3-8134fc28b5b3",
   "metadata": {},
   "outputs": [
    {
     "name": "stdout",
     "output_type": "stream",
     "text": [
      "Device set to: cpu\n"
     ]
    }
   ],
   "source": [
    "# Check if CUDA is available, then MPS, otherwise use CPU\n",
    "if torch.cuda.is_available():\n",
    "    device = torch.device(\"cuda\")\n",
    "    torch.cuda.empty_cache()\n",
    "    # cluster path\n",
    "    vector_path = \"../scratch/vector\"\n",
    "#elif torch.backends.mps.is_available():\n",
    "#    device = torch.device(\"mps\")\n",
    "    # local path\n",
    "#    vector_path = \"../data.nosync/vector\"\n",
    "else:\n",
    "    device = torch.device(\"cpu\")\n",
    "    # local path\n",
    "    vector_path = \"../data.nosync/vector\"\n",
    "\n",
    "print(f\"Device set to: {device}\")"
   ]
  },
  {
   "cell_type": "code",
   "execution_count": 4,
   "id": "0aa9a4b4-07d6-4121-8db4-63dc413c2156",
   "metadata": {},
   "outputs": [],
   "source": [
    "# operators are always specified in this order\n",
    "operator_order = (\"elimination\", \"aggregation\", \"typification\", \"displacement\", \"enlargement\", \"simplification\")"
   ]
  },
  {
   "cell_type": "code",
   "execution_count": 5,
   "id": "02b637e4-16aa-431f-8e36-bfee5730d3d8",
   "metadata": {},
   "outputs": [],
   "source": [
    "# Define DIN font for plots if working locally\n",
    "if not torch.cuda.is_available():\n",
    "    plt.rcParams[\"font.family\"] = \"DIN Alternate\""
   ]
  },
  {
   "cell_type": "markdown",
   "id": "b21ffaec-0dc4-4015-9793-2da90d41184a",
   "metadata": {},
   "source": [
    "### Loading the data"
   ]
  },
  {
   "cell_type": "code",
   "execution_count": 6,
   "id": "2db5da42-2c67-49bb-8cb6-13ad1f4a92cc",
   "metadata": {},
   "outputs": [],
   "source": [
    "# Setting up a Dataset object for DataLoader\n",
    "class BuildingVectorDataset(Dataset):\n",
    "    def __init__(self, path, operators, transform=None):\n",
    "        '''Stores the directory and filenames of the individual .pt files.'''\n",
    "        super().__init__(path, transform)\n",
    "        # store directory of individual files\n",
    "        self.path = path\n",
    "        # get filenames of individual .pt files\n",
    "        self.filenames = [file for file in os.listdir(path) if file.endswith(\".pt\")]\n",
    "\n",
    "        # store indices of the operators within operator_order for slicing in the .get() method\n",
    "        self.operators = sorted([operator_order.index(operator) for operator in operators if operator in operator_order])\n",
    "\n",
    "        # store transformation\n",
    "        self.transform = transform\n",
    "\n",
    "    def len(self):\n",
    "        '''Enables dataset length calculation.'''\n",
    "        return len(self.filenames)\n",
    "\n",
    "    def get(self, index):\n",
    "        '''Enables indexing, returns HeteroData object which contains nodes, edges and labels.'''\n",
    "        # get filename associated with given index\n",
    "        filename = self.filenames[index]\n",
    "\n",
    "        # load the file with the filename\n",
    "        sample = torch.load(os.path.join(self.path, filename))\n",
    "\n",
    "        # only return the operators specified in the init method by slicing sample.y and reshaping accordingly\n",
    "        sample.y = sample.y[self.operators].reshape(1, -1)\n",
    "\n",
    "        # apply given transformation if specified\n",
    "        #if self.transform:\n",
    "        #    graph = self.transform(graph)\n",
    "\n",
    "        return sample"
   ]
  },
  {
   "cell_type": "markdown",
   "id": "a4396e6b-bd1e-4b58-b0eb-1a6c29d6f965",
   "metadata": {},
   "source": [
    "### Model design"
   ]
  },
  {
   "cell_type": "code",
   "execution_count": 7,
   "id": "3014c623-4ce2-41e3-9569-71809d8b70e1",
   "metadata": {},
   "outputs": [],
   "source": [
    "# Define the model\n",
    "class HeteroGNN(nn.Module):\n",
    "    def __init__(self, node_features, node_to_predict, metadata, n_classes):\n",
    "        super().__init__()\n",
    "        self.conv1 = pyg_nn.HGTConv(in_channels=node_features,\n",
    "                             out_channels=64, metadata=(metadata))\n",
    "        self.conv2 = pyg_nn.HGTConv(in_channels=64, out_channels=n_classes, metadata=(metadata))\n",
    "\n",
    "    def forward(self, x_dict, edge_index_dict):\n",
    "        x_dict = self.conv1(x_dict, edge_index_dict)\n",
    "        x_dict = {k: torch.relu(x) for k, x in x_dict.items()}\n",
    "        x_dict = self.conv2(x_dict, edge_index_dict)\n",
    "        return x_dict[node_to_predict]  # Only return the building predictions\n",
    "\n",
    "    def get_n_parameters(self):\n",
    "        n_parameters = sum(p.numel() for p in self.parameters())\n",
    "        return n_parameters\n",
    "\n",
    "    def __str__(self):\n",
    "        return f\"Heterogeneous GNN with {self.get_n_parameters():,} parameters\""
   ]
  },
  {
   "cell_type": "code",
   "execution_count": 8,
   "id": "3651e23b-c7e3-4c83-8023-e81b9ea931d6",
   "metadata": {},
   "outputs": [],
   "source": [
    "class GNN(nn.Module):\n",
    "    def __init__(self, hidden_channels, out_channels):\n",
    "        super().__init__()\n",
    "        self.conv1 = SAGEConv((-1, -1), hidden_channels)\n",
    "        self.conv2 = SAGEConv((-1, -1), out_channels)\n",
    "\n",
    "    def forward(self, x, edge_index):\n",
    "        x = self.conv1(x, edge_index).relu()\n",
    "        x = self.conv2(x, edge_index)\n",
    "        return x"
   ]
  },
  {
   "cell_type": "code",
   "execution_count": 7,
   "id": "df213be0-f69a-42b7-96e4-3fef126ef883",
   "metadata": {},
   "outputs": [],
   "source": [
    "class HAN(nn.Module):\n",
    "    def __init__(self, in_channels, out_channels, dropout=0.5, hidden_channels=128, heads=8, metadata=None, num_classes=1):\n",
    "        super().__init__()\n",
    "        self.dropout = dropout\n",
    "        self.metadata = metadata\n",
    "        self.hidden_channels = hidden_channels\n",
    "        self.han_conv = pyg_nn.HANConv(in_channels, self.hidden_channels, heads=heads,\n",
    "                                dropout=dropout, metadata=metadata)\n",
    "        self.lin1 = nn.Linear(self.hidden_channels * len(metadata[0]), out_channels)\n",
    "        self.lin2 = nn.Linear(out_channels, num_classes)\n",
    "\n",
    "    def forward(self, x_dict, edge_index_dict, batch):\n",
    "            x = self.han_conv(x_dict, edge_index_dict)\n",
    "    \n",
    "            concat = []\n",
    "            for node_type in self.metadata[0]:\n",
    "                concat.append(pyg_nn.global_mean_pool(x[node_type], batch[node_type]))\n",
    "            x = torch.cat(concat, dim=-1)\n",
    "            \n",
    "            # Apply a final classifier\n",
    "            x = F.dropout(x, p=self.dropout, training=self.training)\n",
    "            x = self.lin1(x).relu()\n",
    "            #x = torch.sigmoid(self.lin2(x))\n",
    "            x = self.lin2(x)\n",
    "    \n",
    "            #x = torch.reshape(x, (-1,))\n",
    "    \n",
    "            return x\n",
    "\n",
    "    def get_n_parameters(self):\n",
    "        n_parameters = sum(p.numel() for p in self.parameters())\n",
    "        return n_parameters"
   ]
  },
  {
   "cell_type": "markdown",
   "id": "8c4daa7b-3613-47da-97ca-bb6e22e52201",
   "metadata": {},
   "source": [
    "## Elimination model"
   ]
  },
  {
   "cell_type": "code",
   "execution_count": 8,
   "id": "e74bd3ff-a799-4d39-b366-0ae3e49b0f89",
   "metadata": {},
   "outputs": [
    {
     "name": "stdout",
     "output_type": "stream",
     "text": [
      "1,000 samples in the training set.\n",
      "1,000 samples in the training set.\n"
     ]
    }
   ],
   "source": [
    "# define path to training and validation data\n",
    "path_to_training_data = os.path.join(vector_path, \"training_data\")\n",
    "path_to_validation_data = os.path.join(vector_path, \"training_data\")\n",
    "\n",
    "# composing various random transforms that should be applied to the data\n",
    "#transform = transforms.Compose([transforms.ToUndirected()])\n",
    "\n",
    "# operators that the model should be optimized towards\n",
    "operators = [\"elimination\"]\n",
    "\n",
    "# batch size for DataLoaders\n",
    "batch_size = 10\n",
    "\n",
    "# construct training DataLoader\n",
    "training_set = BuildingVectorDataset(path_to_training_data, operators=operators, transform=None)\n",
    "training_loader = DataLoader(training_set, batch_size=batch_size, shuffle=True)\n",
    "\n",
    "# construct validation DataLoader (no transformations, no shuffling)\n",
    "validation_set = BuildingVectorDataset(path_to_validation_data, operators=operators, transform=None)\n",
    "validation_loader = DataLoader(training_set, batch_size=batch_size, shuffle=False)\n",
    "\n",
    "print(f\"{len(training_set):,} samples in the training set.\")\n",
    "print(f\"{len(training_set):,} samples in the training set.\")"
   ]
  },
  {
   "cell_type": "code",
   "execution_count": 9,
   "id": "3298c9cd-6c0a-4cdb-8b95-b10f9d7006b6",
   "metadata": {},
   "outputs": [
    {
     "name": "stdout",
     "output_type": "stream",
     "text": [
      "2 focal building features, 2 context building features, 2 road features, 1 operators\n"
     ]
    }
   ],
   "source": [
    "# extracting the relevant metadata from the data to set up the model\n",
    "n_focal_building_features = training_set.get(0)[\"focal_building\"][\"x\"].shape[1]\n",
    "n_context_building_features = training_set.get(0)[\"context_building\"][\"x\"].shape[1]\n",
    "n_road_features = training_set.get(0)[\"road\"][\"x\"].shape[1]\n",
    "node_features = {\"focal_building\": n_focal_building_features, \"context_building\": n_context_building_features, \"road\": n_road_features}\n",
    "n_classes = training_set.get(0)[\"y\"].shape[0]\n",
    "\n",
    "print(f\"{n_focal_building_features} focal building features, {n_context_building_features} context building features, {n_road_features} road features, {n_classes} operators\")\n",
    "\n",
    "# construct the model\n",
    "#model = HeteroGNN(node_features, node_to_predict=node_to_predict, metadata=training_set.get(0).metadata(), n_classes=n_classes)\n",
    "#model.to(device)\n",
    "\n"
   ]
  },
  {
   "cell_type": "code",
   "execution_count": 10,
   "id": "30835e57-3916-41af-9eb7-5c18e55e9ce8",
   "metadata": {},
   "outputs": [],
   "source": [
    "model = HAN(in_channels=-1, out_channels=3, metadata=training_set.get(0).metadata(), num_classes=n_classes)\n",
    "\n",
    "#for i, graph in enumerate(training_loader):\n",
    "#    out = model(graph.x_dict, graph.edge_index_dict, graph.batch_dict)\n",
    "\n",
    "learning_rate = 0.001\n",
    "\n",
    "criterion = nn.BCEWithLogitsLoss() # Binary cross-entropy loss, applies a sigmoid internally and takes logits as input\n",
    "optimizer = torch.optim.Adam(model.parameters(), lr=learning_rate)"
   ]
  },
  {
   "cell_type": "code",
   "execution_count": 11,
   "id": "bcc5dfc9-451c-4ded-a84d-1445e852a750",
   "metadata": {},
   "outputs": [
    {
     "data": {
      "text/plain": [
       "20743"
      ]
     },
     "execution_count": 11,
     "metadata": {},
     "output_type": "execute_result"
    }
   ],
   "source": [
    "sum(p.numel() for p in model.parameters())"
   ]
  },
  {
   "cell_type": "code",
   "execution_count": 15,
   "id": "b25d7479-5b25-406b-9883-5a394b3c093e",
   "metadata": {},
   "outputs": [
    {
     "name": "stdout",
     "output_type": "stream",
     "text": [
      "(['focal_building', 'context_building', 'road'], [('focal_building', 'connects', 'context_building'), ('context_building', 'connects', 'context_building'), ('focal_building', 'connects', 'road'), ('context_building', 'connects', 'road'), ('context_building', 'rev_connects', 'focal_building'), ('road', 'rev_connects', 'focal_building'), ('road', 'rev_connects', 'context_building')])\n"
     ]
    }
   ],
   "source": [
    "from torch_geometric.nn import SAGEConv, to_hetero\n",
    "\n",
    "model = pyg_nn.models.GraphSAGE(in_channels=(-1, -1), hidden_channels=128, num_layers=28, out_channels=n_classes)\n",
    "#model = pyg_nn.models.GraphSAGE(in_channels=-1, hidden_channels=128, num_layers=28, out_channels=n_classes)\n",
    "#model = GNN(hidden_channels=64, out_channels=n_classes)\n",
    "\n",
    "model = to_hetero(model, training_set.get(0).metadata(), aggr=\"sum\")\n",
    "\n",
    "#print(model)\n",
    "\n",
    "#sum(p.numel() for p in model.parameters())\n",
    "\n",
    "print(training_set.get(0).metadata())\n",
    "\n",
    "# Lazy initialization of the model's parameters\n",
    "with torch.no_grad():  # Initialize lazy modules.\n",
    "    out = model(training_set.get(0).x_dict, training_set.get(0).edge_index_dict)"
   ]
  },
  {
   "cell_type": "code",
   "execution_count": 16,
   "id": "049cd1c5-dcff-4187-878e-c2895381dad0",
   "metadata": {},
   "outputs": [
    {
     "data": {
      "text/plain": [
       "5993351"
      ]
     },
     "execution_count": 16,
     "metadata": {},
     "output_type": "execute_result"
    }
   ],
   "source": [
    "sum(p.numel() for p in model.parameters())"
   ]
  },
  {
   "cell_type": "markdown",
   "id": "b0c22c08-9106-4cd4-b3aa-9150f79f6c48",
   "metadata": {},
   "source": [
    "### Training loop"
   ]
  },
  {
   "cell_type": "code",
   "execution_count": 13,
   "id": "8af6e24b-6719-422b-bdeb-c9a4f0f89530",
   "metadata": {},
   "outputs": [
    {
     "name": "stdout",
     "output_type": "stream",
     "text": [
      "epoch 1/10, step 10/100\n",
      "epoch 1/10, step 20/100\n",
      "epoch 1/10, step 30/100\n",
      "epoch 1/10, step 40/100\n",
      "epoch 1/10, step 50/100\n",
      "epoch 1/10, step 60/100\n",
      "epoch 1/10, step 70/100\n",
      "epoch 1/10, step 80/100\n",
      "epoch 1/10, step 90/100\n",
      "epoch 1/10, step 100/100\n",
      "epoch 1 finished, training loss: 0.471, validation loss: 0.463\n",
      "epoch 2/10, step 10/100\n",
      "epoch 2/10, step 20/100\n",
      "epoch 2/10, step 30/100\n",
      "epoch 2/10, step 40/100\n",
      "epoch 2/10, step 50/100\n",
      "epoch 2/10, step 60/100\n",
      "epoch 2/10, step 70/100\n",
      "epoch 2/10, step 80/100\n",
      "epoch 2/10, step 90/100\n",
      "epoch 2/10, step 100/100\n",
      "epoch 2 finished, training loss: 0.456, validation loss: 0.450\n",
      "epoch 3/10, step 10/100\n",
      "epoch 3/10, step 20/100\n",
      "epoch 3/10, step 30/100\n",
      "epoch 3/10, step 40/100\n",
      "epoch 3/10, step 50/100\n",
      "epoch 3/10, step 60/100\n",
      "epoch 3/10, step 70/100\n",
      "epoch 3/10, step 80/100\n",
      "epoch 3/10, step 90/100\n",
      "epoch 3/10, step 100/100\n",
      "epoch 3 finished, training loss: 0.444, validation loss: 0.438\n",
      "epoch 4/10, step 10/100\n",
      "epoch 4/10, step 20/100\n",
      "epoch 4/10, step 30/100\n",
      "epoch 4/10, step 40/100\n",
      "epoch 4/10, step 50/100\n",
      "epoch 4/10, step 60/100\n",
      "epoch 4/10, step 70/100\n",
      "epoch 4/10, step 80/100\n",
      "epoch 4/10, step 90/100\n",
      "epoch 4/10, step 100/100\n",
      "epoch 4 finished, training loss: 0.432, validation loss: 0.427\n",
      "epoch 5/10, step 10/100\n",
      "epoch 5/10, step 20/100\n",
      "epoch 5/10, step 30/100\n",
      "epoch 5/10, step 40/100\n",
      "epoch 5/10, step 50/100\n",
      "epoch 5/10, step 60/100\n",
      "epoch 5/10, step 70/100\n",
      "epoch 5/10, step 80/100\n",
      "epoch 5/10, step 90/100\n",
      "epoch 5/10, step 100/100\n",
      "epoch 5 finished, training loss: 0.422, validation loss: 0.417\n",
      "epoch 6/10, step 10/100\n",
      "epoch 6/10, step 20/100\n",
      "epoch 6/10, step 30/100\n",
      "epoch 6/10, step 40/100\n",
      "epoch 6/10, step 50/100\n",
      "epoch 6/10, step 60/100\n",
      "epoch 6/10, step 70/100\n",
      "epoch 6/10, step 80/100\n",
      "epoch 6/10, step 90/100\n",
      "epoch 6/10, step 100/100\n",
      "epoch 6 finished, training loss: 0.413, validation loss: 0.409\n",
      "epoch 7/10, step 10/100\n",
      "epoch 7/10, step 20/100\n",
      "epoch 7/10, step 30/100\n",
      "epoch 7/10, step 40/100\n",
      "epoch 7/10, step 50/100\n",
      "epoch 7/10, step 60/100\n",
      "epoch 7/10, step 70/100\n",
      "epoch 7/10, step 80/100\n",
      "epoch 7/10, step 90/100\n",
      "epoch 7/10, step 100/100\n",
      "epoch 7 finished, training loss: 0.405, validation loss: 0.401\n",
      "epoch 8/10, step 10/100\n",
      "epoch 8/10, step 20/100\n",
      "epoch 8/10, step 30/100\n",
      "epoch 8/10, step 40/100\n",
      "epoch 8/10, step 50/100\n",
      "epoch 8/10, step 60/100\n",
      "epoch 8/10, step 70/100\n",
      "epoch 8/10, step 80/100\n",
      "epoch 8/10, step 90/100\n",
      "epoch 8/10, step 100/100\n",
      "epoch 8 finished, training loss: 0.397, validation loss: 0.394\n",
      "epoch 9/10, step 10/100\n",
      "epoch 9/10, step 20/100\n",
      "epoch 9/10, step 30/100\n",
      "epoch 9/10, step 40/100\n",
      "epoch 9/10, step 50/100\n",
      "epoch 9/10, step 60/100\n",
      "epoch 9/10, step 70/100\n",
      "epoch 9/10, step 80/100\n",
      "epoch 9/10, step 90/100\n",
      "epoch 9/10, step 100/100\n",
      "epoch 9 finished, training loss: 0.391, validation loss: 0.388\n",
      "epoch 10/10, step 10/100\n",
      "epoch 10/10, step 20/100\n",
      "epoch 10/10, step 30/100\n",
      "epoch 10/10, step 40/100\n",
      "epoch 10/10, step 50/100\n",
      "epoch 10/10, step 60/100\n",
      "epoch 10/10, step 70/100\n",
      "epoch 10/10, step 80/100\n",
      "epoch 10/10, step 90/100\n",
      "epoch 10/10, step 100/100\n",
      "epoch 10 finished, training loss: 0.385, validation loss: 0.382\n",
      "Training time: 16.721 seconds\n"
     ]
    }
   ],
   "source": [
    "# number of epochs\n",
    "n_epochs = 10\n",
    "\n",
    "total_samples = len(training_set)\n",
    "n_iterations = math.ceil(total_samples/batch_size)\n",
    "    \n",
    "# saving the losses from every epoch\n",
    "training_losses = []\n",
    "validation_losses = []\n",
    "\n",
    "start_time = time.perf_counter()\n",
    "    \n",
    "for epoch in range(n_epochs):\n",
    "    # tracking loss per epoch\n",
    "    training_running_loss = 0.0\n",
    "    n_training_batches = 0\n",
    "    validation_running_loss = 0.0\n",
    "    n_validation_batches = 0\n",
    "\n",
    "    # training phase\n",
    "    model.train()\n",
    "\n",
    "    for i, graph in enumerate(training_loader):\n",
    "        n_training_batches += 1\n",
    "\n",
    "        # target operators\n",
    "        operators = graph.y\n",
    "        \n",
    "        # moving the features to device\n",
    "        graph = graph.to(device)\n",
    "        operators = operators.to(device)\n",
    "    \n",
    "        # empty the gradients\n",
    "        optimizer.zero_grad()\n",
    "            \n",
    "        # forward pass\n",
    "        pred_operators_logits = model(graph.x_dict, graph.edge_index_dict, graph.batch_dict) # compute predictions, calls forward method under the hood\n",
    "        loss = criterion(pred_operators_logits, operators) # calculate loss\n",
    "        training_running_loss += loss.item() # tracking running loss to keep track of the loss for every epoch\n",
    "    \n",
    "        # backward pass\n",
    "        loss.backward() # backpropagation\n",
    "        optimizer.step() # update the parameters\n",
    "    \n",
    "        # print information every few batches\n",
    "        if not (i + 1) % (n_iterations // 10):\n",
    "            print(f\"epoch {epoch+1}/{n_epochs}, step {i+1}/{n_iterations}\")\n",
    "\n",
    "    # validation phase\n",
    "    model.eval()\n",
    "\n",
    "    with torch.no_grad():\n",
    "        for graph in validation_loader:\n",
    "            n_validation_batches += 1\n",
    "            # target operators\n",
    "            operators = graph.y\n",
    "            \n",
    "            # moving the features to device\n",
    "            graph = graph.to(device)\n",
    "            operators = operators.to(device)\n",
    "\n",
    "            # prediction on the trained model results in logits\n",
    "            pred_operators_logits = model(graph.x_dict, graph.edge_index_dict, graph.batch_dict) # compute predictions, calls forward method under the hood\n",
    "            # calculate and store validation loss\n",
    "            loss = criterion(pred_operators_logits, operators)\n",
    "            validation_running_loss += loss.item()\n",
    "    \n",
    "    # print information at the end of each epoch\n",
    "    training_loss_epoch = training_running_loss / n_training_batches\n",
    "    training_losses.append(training_loss_epoch)\n",
    "    validation_loss_epoch = validation_running_loss / n_validation_batches\n",
    "    validation_losses.append(validation_loss_epoch)\n",
    "    \n",
    "    print(f\"epoch {epoch+1} finished, training loss: {training_loss_epoch:.3f}, validation loss: {validation_loss_epoch:.3f}\")\n",
    "\n",
    "end_time = time.perf_counter()\n",
    "print(f\"Training time: {end_time - start_time:,.3f} seconds\")\n",
    "\n",
    "# saving the losses\n",
    "model_name = get_model_name(model, ops=\"eli\", n_samples=len(training_set), n_epochs=n_epochs, batch_size=batch_size) + \".csv\"\n",
    "losses_path = os.path.join(vector_path, \"model_outputs\", \"elimination\", \"losses\", model_name)\n",
    "\n",
    "# creating a DataFrame with loss values\n",
    "losses_df = pd.DataFrame({\"epoch\": list(range(1, n_epochs+1)), \n",
    "                          \"training_loss\": training_losses, \n",
    "                          \"validation_loss\": validation_losses})\n",
    "\n",
    "# save to CSV\n",
    "losses_df.to_csv(losses_path, index=False)\n",
    "\n",
    "# if working on ScienceCluster, send notification that training has finished\n",
    "if torch.cuda.is_available():\n",
    "    send_notification(model=model, \n",
    "                      email_address=\"joris.senn@uzh.ch\", \n",
    "                      n_samples=len(training_set), \n",
    "                      n_epochs=n_epochs, \n",
    "                      batch_size=batch_size, \n",
    "                      time=end_time-start_time)"
   ]
  },
  {
   "cell_type": "code",
   "execution_count": 16,
   "id": "28d1441d-f8ac-47e7-8e29-56c911b0f95a",
   "metadata": {
    "scrolled": true
   },
   "outputs": [
    {
     "data": {
      "image/png": "[encoded data removed]",
      "text/plain": [
       "<Figure size 1000x600 with 1 Axes>"
      ]
     },
     "metadata": {},
     "output_type": "display_data"
    }
   ],
   "source": [
    "loss_path = os.path.join(vector_path, \"model_outputs\", \"elimination\", \"losses\")\n",
    "visualize_losses([model_name], loss_path)"
   ]
  },
  {
   "cell_type": "markdown",
   "id": "f02a5907-a2ee-4223-a163-4e3513c91a24",
   "metadata": {},
   "source": [
    "### Accuracy metrics after training"
   ]
  },
  {
   "cell_type": "code",
   "execution_count": 14,
   "id": "422a22bd-6b46-408a-8058-529bbdbab80c",
   "metadata": {
    "scrolled": true
   },
   "outputs": [
    {
     "name": "stderr",
     "output_type": "stream",
     "text": [
      "/Library/anaconda3/envs/genops/lib/python3.11/site-packages/sklearn/metrics/_classification.py:1344: UndefinedMetricWarning: Precision is ill-defined and being set to 0.0 due to no predicted samples. Use `zero_division` parameter to control this behavior.\n",
      "  _warn_prf(average, modifier, msg_start, len(result))\n"
     ]
    },
    {
     "data": {
      "image/png": "[encoded data removed]",
      "text/plain": [
       "<Figure size 640x480 with 1 Axes>"
      ]
     },
     "metadata": {},
     "output_type": "display_data"
    },
    {
     "name": "stdout",
     "output_type": "stream",
     "text": [
      "Accuracy: 0.892\n",
      "Precision: 0.000\n",
      "Recall: 0.000\n",
      "F1 Score: 0.000\n"
     ]
    }
   ],
   "source": [
    "# switch to evaluation mode\n",
    "model.eval()\n",
    "\n",
    "# storing the predictions and true labels from every batch\n",
    "true_elimination = []\n",
    "pred_elimination = []\n",
    "\n",
    "# prediction evaluations should not be part of the computational graph, gradients should not be tracked\n",
    "with torch.no_grad():\n",
    "    for graph in validation_loader:\n",
    "        # target operators\n",
    "        operators = graph.y\n",
    "        \n",
    "        # moving the features to device\n",
    "        graph = graph.to(device)\n",
    "        operators = operators.to(device)\n",
    "\n",
    "        # prediction on the trained model results in logits, sigmoid needs to be applied to obtain probabilities\n",
    "        pred_operators_logits = model(graph.x_dict, graph.edge_index_dict, graph.batch_dict)\n",
    "        pred_operators = torch.sigmoid(pred_operators_logits)\n",
    "        pred_operators_labels = (pred_operators > 0.5).float()  # thresholding\n",
    "        \n",
    "        # extracting true and predicted elimination\n",
    "        true_elimination_batch = operators[:,0]\n",
    "        pred_elimination_batch = pred_operators_labels[:,0]\n",
    "\n",
    "        # collect data for metrics calculation\n",
    "        true_elimination.append(true_elimination_batch.cpu())\n",
    "        pred_elimination.append(pred_elimination_batch.cpu())\n",
    "\n",
    "# convert lists to tensors\n",
    "true_elimination = torch.cat(true_elimination)\n",
    "pred_elimination = torch.cat(pred_elimination)\n",
    "\n",
    "# calculate metrics\n",
    "conf_matrix = confusion_matrix(true_elimination.numpy(), pred_elimination.numpy())\n",
    "accuracy = accuracy_score(true_elimination.numpy(), pred_elimination.numpy())\n",
    "precision = precision_score(true_elimination.numpy(), pred_elimination.numpy())\n",
    "recall = recall_score(true_elimination.numpy(), pred_elimination.numpy())\n",
    "f1 = f1_score(true_elimination.numpy(), pred_elimination.numpy())\n",
    "\n",
    "# saving the accuracy metrics\n",
    "model_name = get_model_name(model, ops=\"eli\", n_samples=len(training_set), n_epochs=n_epochs, batch_size=batch_size) + \".csv\"\n",
    "metrics_path = os.path.join(vector_path, \"model_outputs\", \"elimination\", \"metrics\", model_name)\n",
    "\n",
    "# creating a DataFrame with loss values\n",
    "metrics_df = pd.DataFrame({\"operator\": [\"elimination\"],\n",
    "                           \"accuracy\": [accuracy], \n",
    "                           \"precision\": [precision],\n",
    "                           \"recall\": [recall],\n",
    "                           \"f1-score\": [f1]})\n",
    "\n",
    "# save to CSV\n",
    "metrics_df.to_csv(metrics_path, index=False)\n",
    "\n",
    "# display the confusion matrix\n",
    "visualize_confusion_matrix(conf_matrix, operator=\"elimination\")\n",
    "\n",
    "# print metrics\n",
    "print(f\"Accuracy: {accuracy:.3f}\")\n",
    "print(f\"Precision: {precision:.3f}\")\n",
    "print(f\"Recall: {recall:.3f}\")\n",
    "print(f\"F1 Score: {f1:.3f}\")"
   ]
  },
  {
   "cell_type": "markdown",
   "id": "cf613ab3-c00f-4378-879f-52e314b70681",
   "metadata": {},
   "source": [
    "### Saving the model"
   ]
  },
  {
   "cell_type": "code",
   "execution_count": 13,
   "id": "9f52b425-3261-4308-8fbc-d32b01ae423c",
   "metadata": {},
   "outputs": [],
   "source": [
    "# save the trained model to disk\n",
    "path_to_models = os.path.join(vector_path, \"models\", \"elimination\")\n",
    "\n",
    "model_name = get_model_name(model, ops=\"eli\", n_samples=len(training_set), n_epochs=n_epochs, batch_size=batch_size) + \".pth\"\n",
    "\n",
    "torch.save({\"epoch\": n_epochs,\n",
    "            \"model_state_dict\": model.state_dict(),\n",
    "            \"optimizer_state_dict\": optimizer.state_dict(),\n",
    "            \"loss\": criterion,\n",
    "            }, os.path.join(path_to_models, model_name))"
   ]
  },
  {
   "cell_type": "markdown",
   "id": "f97b0f64-4b49-48fb-a906-3cb9987527a9",
   "metadata": {},
   "source": [
    "## Selection model"
   ]
  },
  {
   "cell_type": "code",
   "execution_count": 15,
   "id": "ea42ca5d-f340-4834-b118-5988d69d0484",
   "metadata": {},
   "outputs": [
    {
     "name": "stdout",
     "output_type": "stream",
     "text": [
      "1,000 samples in the training set.\n",
      "1,000 samples in the training set.\n"
     ]
    }
   ],
   "source": [
    "# define path to training and validation data\n",
    "path_to_training_data = os.path.join(vector_path, \"training_data\")\n",
    "path_to_validation_data = os.path.join(vector_path, \"training_data\")\n",
    "\n",
    "# composing various random transforms that should be applied to the data\n",
    "#transform = transforms.Compose([transforms.ToUndirected()])\n",
    "\n",
    "# operators that the model should be optimized towards\n",
    "selection_operators = [\"aggregation\", \"typification\", \"displacement\", \"enlargement\"]\n",
    "\n",
    "# batch size for DataLoaders\n",
    "batch_size = 10\n",
    "\n",
    "# construct training DataLoader\n",
    "training_set = BuildingVectorDataset(path_to_training_data, operators=selection_operators, transform=None)\n",
    "training_loader = DataLoader(training_set, batch_size=batch_size, shuffle=True)\n",
    "\n",
    "# construct validation DataLoader (no transformations, no shuffling)\n",
    "validation_set = BuildingVectorDataset(path_to_validation_data, operators=selection_operators, transform=None)\n",
    "validation_loader = DataLoader(training_set, batch_size=batch_size, shuffle=False)\n",
    "\n",
    "print(f\"{len(training_set):,} samples in the training set.\")\n",
    "print(f\"{len(training_set):,} samples in the training set.\")"
   ]
  },
  {
   "cell_type": "code",
   "execution_count": 16,
   "id": "d1209b3e-60a1-426c-9a3c-777477cf1adf",
   "metadata": {},
   "outputs": [
    {
     "name": "stdout",
     "output_type": "stream",
     "text": [
      "2 focal building features, 2 context building features, 2 road features, 4 operators\n"
     ]
    }
   ],
   "source": [
    "# extracting the relevant metadata from the data to set up the model\n",
    "n_focal_building_features = training_set.get(0)[\"focal_building\"][\"x\"].shape[1]\n",
    "n_context_building_features = training_set.get(0)[\"context_building\"][\"x\"].shape[1]\n",
    "n_road_features = training_set.get(0)[\"road\"][\"x\"].shape[1]\n",
    "node_features = {\"focal_building\": n_focal_building_features, \"context_building\": n_context_building_features, \"road\": n_road_features}\n",
    "n_classes = training_set.get(0)[\"y\"].shape[1]\n",
    "\n",
    "print(f\"{n_focal_building_features} focal building features, {n_context_building_features} context building features, {n_road_features} road features, {n_classes} operators\")\n",
    "\n",
    "# construct the model\n",
    "#model = HeteroGNN(node_features, node_to_predict=node_to_predict, metadata=training_set.get(0).metadata(), n_classes=n_classes)\n",
    "#model.to(device)"
   ]
  },
  {
   "cell_type": "code",
   "execution_count": 17,
   "id": "92e7578d-6e73-4c89-8305-0dcb40efa409",
   "metadata": {},
   "outputs": [],
   "source": [
    "model = HAN(in_channels=-1, out_channels=3, metadata=training_set.get(0).metadata(), num_classes=n_classes)\n",
    "\n",
    "#for i, graph in enumerate(training_loader):\n",
    "#    out = model(graph.x_dict, graph.edge_index_dict, graph.batch_dict)\n",
    "\n",
    "learning_rate = 0.001\n",
    "\n",
    "criterion = nn.BCEWithLogitsLoss() # Binary cross-entropy loss, applies a sigmoid internally and takes logits as input\n",
    "optimizer = torch.optim.Adam(model.parameters(), lr=learning_rate)"
   ]
  },
  {
   "cell_type": "markdown",
   "id": "3fcc4edd-6ca3-46e8-b374-016862d6799c",
   "metadata": {},
   "source": [
    "### Training loop"
   ]
  },
  {
   "cell_type": "code",
   "execution_count": 18,
   "id": "a4392aca-bb31-4860-97d8-662897be6d0f",
   "metadata": {},
   "outputs": [
    {
     "name": "stdout",
     "output_type": "stream",
     "text": [
      "epoch 1/10, step 10/100\n",
      "epoch 1/10, step 20/100\n",
      "epoch 1/10, step 30/100\n",
      "epoch 1/10, step 40/100\n",
      "epoch 1/10, step 50/100\n",
      "epoch 1/10, step 60/100\n",
      "epoch 1/10, step 70/100\n",
      "epoch 1/10, step 80/100\n",
      "epoch 1/10, step 90/100\n",
      "epoch 1/10, step 100/100\n",
      "epoch 1 finished, training loss: 5676.662, validation loss: 0.689\n",
      "epoch 2/10, step 10/100\n",
      "epoch 2/10, step 20/100\n",
      "epoch 2/10, step 30/100\n",
      "epoch 2/10, step 40/100\n",
      "epoch 2/10, step 50/100\n",
      "epoch 2/10, step 60/100\n",
      "epoch 2/10, step 70/100\n",
      "epoch 2/10, step 80/100\n",
      "epoch 2/10, step 90/100\n",
      "epoch 2/10, step 100/100\n",
      "epoch 2 finished, training loss: 25.303, validation loss: 0.673\n",
      "epoch 3/10, step 10/100\n",
      "epoch 3/10, step 20/100\n",
      "epoch 3/10, step 30/100\n",
      "epoch 3/10, step 40/100\n",
      "epoch 3/10, step 50/100\n",
      "epoch 3/10, step 60/100\n",
      "epoch 3/10, step 70/100\n",
      "epoch 3/10, step 80/100\n",
      "epoch 3/10, step 90/100\n",
      "epoch 3/10, step 100/100\n",
      "epoch 3 finished, training loss: 6.148, validation loss: 0.658\n",
      "epoch 4/10, step 10/100\n",
      "epoch 4/10, step 20/100\n",
      "epoch 4/10, step 30/100\n",
      "epoch 4/10, step 40/100\n",
      "epoch 4/10, step 50/100\n",
      "epoch 4/10, step 60/100\n",
      "epoch 4/10, step 70/100\n",
      "epoch 4/10, step 80/100\n",
      "epoch 4/10, step 90/100\n",
      "epoch 4/10, step 100/100\n",
      "epoch 4 finished, training loss: 0.652, validation loss: 0.646\n",
      "epoch 5/10, step 10/100\n",
      "epoch 5/10, step 20/100\n",
      "epoch 5/10, step 30/100\n",
      "epoch 5/10, step 40/100\n",
      "epoch 5/10, step 50/100\n",
      "epoch 5/10, step 60/100\n",
      "epoch 5/10, step 70/100\n",
      "epoch 5/10, step 80/100\n",
      "epoch 5/10, step 90/100\n",
      "epoch 5/10, step 100/100\n",
      "epoch 5 finished, training loss: 0.641, validation loss: 0.636\n",
      "epoch 6/10, step 10/100\n",
      "epoch 6/10, step 20/100\n",
      "epoch 6/10, step 30/100\n",
      "epoch 6/10, step 40/100\n",
      "epoch 6/10, step 50/100\n",
      "epoch 6/10, step 60/100\n",
      "epoch 6/10, step 70/100\n",
      "epoch 6/10, step 80/100\n",
      "epoch 6/10, step 90/100\n",
      "epoch 6/10, step 100/100\n",
      "epoch 6 finished, training loss: 5.718, validation loss: 0.627\n",
      "epoch 7/10, step 10/100\n",
      "epoch 7/10, step 20/100\n",
      "epoch 7/10, step 30/100\n",
      "epoch 7/10, step 40/100\n",
      "epoch 7/10, step 50/100\n",
      "epoch 7/10, step 60/100\n",
      "epoch 7/10, step 70/100\n",
      "epoch 7/10, step 80/100\n",
      "epoch 7/10, step 90/100\n",
      "epoch 7/10, step 100/100\n",
      "epoch 7 finished, training loss: 0.623, validation loss: 0.619\n",
      "epoch 8/10, step 10/100\n",
      "epoch 8/10, step 20/100\n",
      "epoch 8/10, step 30/100\n",
      "epoch 8/10, step 40/100\n",
      "epoch 8/10, step 50/100\n",
      "epoch 8/10, step 60/100\n",
      "epoch 8/10, step 70/100\n",
      "epoch 8/10, step 80/100\n",
      "epoch 8/10, step 90/100\n",
      "epoch 8/10, step 100/100\n",
      "epoch 8 finished, training loss: 16.740, validation loss: 0.613\n",
      "epoch 9/10, step 10/100\n",
      "epoch 9/10, step 20/100\n",
      "epoch 9/10, step 30/100\n",
      "epoch 9/10, step 40/100\n",
      "epoch 9/10, step 50/100\n",
      "epoch 9/10, step 60/100\n",
      "epoch 9/10, step 70/100\n",
      "epoch 9/10, step 80/100\n",
      "epoch 9/10, step 90/100\n",
      "epoch 9/10, step 100/100\n",
      "epoch 9 finished, training loss: 0.610, validation loss: 0.607\n",
      "epoch 10/10, step 10/100\n",
      "epoch 10/10, step 20/100\n",
      "epoch 10/10, step 30/100\n",
      "epoch 10/10, step 40/100\n",
      "epoch 10/10, step 50/100\n",
      "epoch 10/10, step 60/100\n",
      "epoch 10/10, step 70/100\n",
      "epoch 10/10, step 80/100\n",
      "epoch 10/10, step 90/100\n",
      "epoch 10/10, step 100/100\n",
      "epoch 10 finished, training loss: 0.605, validation loss: 0.603\n",
      "Training time: 16.726 seconds\n"
     ]
    }
   ],
   "source": [
    "# number of epochs\n",
    "n_epochs = 10\n",
    "\n",
    "total_samples = len(training_set)\n",
    "n_iterations = math.ceil(total_samples/batch_size)\n",
    "    \n",
    "# saving the losses from every epoch\n",
    "training_losses = []\n",
    "validation_losses = []\n",
    "\n",
    "start_time = time.perf_counter()\n",
    "    \n",
    "for epoch in range(n_epochs):\n",
    "    # tracking loss per epoch\n",
    "    training_running_loss = 0.0\n",
    "    n_training_batches = 0\n",
    "    validation_running_loss = 0.0\n",
    "    n_validation_batches = 0\n",
    "\n",
    "    # training phase\n",
    "    model.train()\n",
    "\n",
    "    for i, graph in enumerate(training_loader):\n",
    "        n_training_batches += 1\n",
    "        # target operators\n",
    "        operators = graph.y\n",
    "        \n",
    "        # moving the features to device\n",
    "        graph = graph.to(device)\n",
    "        operators = operators.to(device)\n",
    "    \n",
    "        # empty the gradients\n",
    "        optimizer.zero_grad()\n",
    "            \n",
    "        # forward pass\n",
    "        pred_operators_logits = model(graph.x_dict, graph.edge_index_dict, graph.batch_dict) # compute predictions, calls forward method under the hood\n",
    "        loss = criterion(pred_operators_logits, operators) # calculate loss\n",
    "        training_running_loss += loss.item() # tracking running loss to keep track of the loss for every epoch\n",
    "    \n",
    "        # backward pass\n",
    "        loss.backward() # backpropagation\n",
    "        optimizer.step() # update the parameters\n",
    "    \n",
    "        # print information every few batches\n",
    "        if not (i + 1) % (n_iterations // 10):\n",
    "            print(f\"epoch {epoch+1}/{n_epochs}, step {i+1}/{n_iterations}\")\n",
    "\n",
    "    # validation phase\n",
    "    model.eval()\n",
    "\n",
    "    with torch.no_grad():\n",
    "        for graph in validation_loader:\n",
    "            n_validation_batches += 1\n",
    "            # target operators\n",
    "            operators = graph.y\n",
    "            \n",
    "            # moving the features to device\n",
    "            graph = graph.to(device)\n",
    "            operators = operators.to(device)\n",
    "\n",
    "            # prediction on the trained model results in logits\n",
    "            pred_operators_logits = model(graph.x_dict, graph.edge_index_dict, graph.batch_dict) # compute predictions, calls forward method under the hood\n",
    "            # calculate and store validation loss\n",
    "            loss = criterion(pred_operators_logits, operators)\n",
    "            validation_running_loss += loss.item()\n",
    "    \n",
    "    # print information at the end of each epoch\n",
    "    training_loss_epoch = training_running_loss / n_training_batches\n",
    "    training_losses.append(training_loss_epoch)\n",
    "    validation_loss_epoch = validation_running_loss / n_validation_batches\n",
    "    validation_losses.append(validation_loss_epoch)\n",
    "    \n",
    "    print(f\"epoch {epoch+1} finished, training loss: {training_loss_epoch:.3f}, validation loss: {validation_loss_epoch:.3f}\")\n",
    "\n",
    "end_time = time.perf_counter()\n",
    "print(f\"Training time: {end_time - start_time:,.3f} seconds\")\n",
    "\n",
    "# saving the losses\n",
    "model_name = get_model_name(model, ops=\"sel\", n_samples=len(training_set), n_epochs=n_epochs, batch_size=batch_size) + \".csv\"\n",
    "losses_path = os.path.join(vector_path, \"model_outputs\", \"selection\", \"losses\", model_name)\n",
    "\n",
    "# creating a DataFrame with loss values\n",
    "losses_df = pd.DataFrame({\"epoch\": list(range(1, n_epochs+1)), \n",
    "                          \"training_loss\": training_losses, \n",
    "                          \"validation_loss\": validation_losses})\n",
    "\n",
    "# save to CSV\n",
    "losses_df.to_csv(losses_path, index=False)\n",
    "\n",
    "# if working on ScienceCluster, send notification that training has finished\n",
    "if torch.cuda.is_available():\n",
    "    send_notification(model=model, \n",
    "                      email_address=\"joris.senn@uzh.ch\", \n",
    "                      n_samples=len(training_set), \n",
    "                      n_epochs=n_epochs, \n",
    "                      batch_size=batch_size, \n",
    "                      time=end_time-start_time)"
   ]
  },
  {
   "cell_type": "code",
   "execution_count": 19,
   "id": "ddab6f31-23e5-47c8-97fa-4427312f1f46",
   "metadata": {
    "scrolled": true
   },
   "outputs": [
    {
     "data": {
      "image/png": "[encoded data removed]",
      "text/plain": [
       "<Figure size 1000x600 with 1 Axes>"
      ]
     },
     "metadata": {},
     "output_type": "display_data"
    }
   ],
   "source": [
    "loss_path = os.path.join(vector_path, \"model_outputs\", \"selection\", \"losses\")\n",
    "visualize_losses([model_name], loss_path)"
   ]
  },
  {
   "cell_type": "markdown",
   "id": "289bc7d5-5d78-4ce9-932d-d00def3b5e72",
   "metadata": {},
   "source": [
    "### Accuracy metrics after training"
   ]
  },
  {
   "cell_type": "code",
   "execution_count": 20,
   "id": "f9ac580b-efb3-46ab-a485-1db919e827d4",
   "metadata": {
    "scrolled": true
   },
   "outputs": [
    {
     "name": "stderr",
     "output_type": "stream",
     "text": [
      "/Library/anaconda3/envs/genops/lib/python3.11/site-packages/sklearn/metrics/_classification.py:1344: UndefinedMetricWarning: Precision is ill-defined and being set to 0.0 due to no predicted samples. Use `zero_division` parameter to control this behavior.\n",
      "  _warn_prf(average, modifier, msg_start, len(result))\n"
     ]
    },
    {
     "data": {
      "image/png": "[encoded data removed]",
      "text/plain": [
       "<Figure size 640x480 with 1 Axes>"
      ]
     },
     "metadata": {},
     "output_type": "display_data"
    },
    {
     "name": "stdout",
     "output_type": "stream",
     "text": [
      "Accuracy: 0.443\n",
      "Precision: 0.000\n",
      "Recall: 0.000\n",
      "F1 Score: 0.000\n"
     ]
    },
    {
     "name": "stderr",
     "output_type": "stream",
     "text": [
      "/Library/anaconda3/envs/genops/lib/python3.11/site-packages/sklearn/metrics/_classification.py:1344: UndefinedMetricWarning: Precision is ill-defined and being set to 0.0 due to no predicted samples. Use `zero_division` parameter to control this behavior.\n",
      "  _warn_prf(average, modifier, msg_start, len(result))\n"
     ]
    },
    {
     "data": {
      "image/png": "[encoded data removed]",
      "text/plain": [
       "<Figure size 640x480 with 1 Axes>"
      ]
     },
     "metadata": {},
     "output_type": "display_data"
    },
    {
     "name": "stdout",
     "output_type": "stream",
     "text": [
      "Accuracy: 0.755\n",
      "Precision: 0.000\n",
      "Recall: 0.000\n",
      "F1 Score: 0.000\n"
     ]
    },
    {
     "data": {
      "image/png": "[encoded data removed]",
      "text/plain": [
       "<Figure size 640x480 with 1 Axes>"
      ]
     },
     "metadata": {},
     "output_type": "display_data"
    },
    {
     "name": "stdout",
     "output_type": "stream",
     "text": [
      "Accuracy: 0.800\n",
      "Precision: 0.800\n",
      "Recall: 1.000\n",
      "F1 Score: 0.889\n"
     ]
    },
    {
     "data": {
      "image/png": "[encoded data removed]",
      "text/plain": [
       "<Figure size 640x480 with 1 Axes>"
      ]
     },
     "metadata": {},
     "output_type": "display_data"
    },
    {
     "name": "stdout",
     "output_type": "stream",
     "text": [
      "Accuracy: 0.737\n",
      "Precision: 0.737\n",
      "Recall: 1.000\n",
      "F1 Score: 0.849\n"
     ]
    }
   ],
   "source": [
    "# switch to evaluation mode\n",
    "model.eval()\n",
    "\n",
    "# storing the predictions and true labels from every batch for every operator\n",
    "true_operators_all = {}\n",
    "pred_operators_all = {}\n",
    "\n",
    "for operator_name in selection_operators:\n",
    "    true_operators_all[operator_name] = []\n",
    "    pred_operators_all[operator_name] = []\n",
    "\n",
    "# prediction evaluations should not be part of the computational graph, gradients should not be tracked\n",
    "with torch.no_grad():\n",
    "    for graph in validation_loader:\n",
    "        # target operators\n",
    "        operators = graph.y\n",
    "        \n",
    "        # moving the features to device\n",
    "        graph = graph.to(device)\n",
    "        operators = operators.to(device)\n",
    "\n",
    "        # prediction on the trained model results in logits, sigmoid needs to be applied to obtain probabilities\n",
    "        pred_operators_logits = model(graph.x_dict, graph.edge_index_dict, graph.batch_dict)\n",
    "        pred_operators = torch.sigmoid(pred_operators_logits)\n",
    "        pred_operators_labels = (pred_operators > 0.5).float()  # thresholding\n",
    "\n",
    "        # storing true labels and predictions for every operator\n",
    "        for i, operator_name in enumerate(selection_operators):\n",
    "            # extracting true and predicted operator\n",
    "            true_operator_batch = operators[:,i]\n",
    "            pred_operator_batch = pred_operators_labels[:,i]\n",
    "\n",
    "            # collect data for metrics calculation\n",
    "            true_operators_all[operator_name].append(true_operator_batch.cpu())\n",
    "            pred_operators_all[operator_name].append(pred_operator_batch.cpu())\n",
    "\n",
    "metrics = {\"operator\": [], \n",
    "           \"accuracy\": [], \n",
    "           \"precision\": [], \n",
    "           \"recall\": [], \n",
    "           \"f1_score\": []}\n",
    "\n",
    "for operator_name in selection_operators:\n",
    "    # convert lists to tensors\n",
    "    cur_true_operator = torch.cat(true_operators_all[operator_name])\n",
    "    cur_pred_operator = torch.cat(pred_operators_all[operator_name])\n",
    "\n",
    "    # calculate metrics of the current operator\n",
    "    conf_matrix = confusion_matrix(cur_true_operator.numpy(), cur_pred_operator.numpy())\n",
    "    accuracy = accuracy_score(cur_true_operator.numpy(), cur_pred_operator.numpy())\n",
    "    precision = precision_score(cur_true_operator.numpy(), cur_pred_operator.numpy())\n",
    "    recall = recall_score(cur_true_operator.numpy(), cur_pred_operator.numpy())\n",
    "    f1 = f1_score(cur_true_operator.numpy(), cur_pred_operator.numpy())\n",
    "\n",
    "    # store the metrics of the current operator\n",
    "    metrics[\"operator\"].append(operator_name)\n",
    "    metrics[\"accuracy\"].append(accuracy)\n",
    "    metrics[\"precision\"].append(precision)\n",
    "    metrics[\"recall\"].append(recall)\n",
    "    metrics[\"f1_score\"].append(f1)\n",
    "\n",
    "    # display the confusion matrix\n",
    "    visualize_confusion_matrix(conf_matrix, operator=operator_name)\n",
    "    \n",
    "    # print metrics\n",
    "    print(f\"Accuracy: {accuracy:.3f}\")\n",
    "    print(f\"Precision: {precision:.3f}\")\n",
    "    print(f\"Recall: {recall:.3f}\")\n",
    "    print(f\"F1 Score: {f1:.3f}\")\n",
    "\n",
    "# saving the accuracy metrics\n",
    "model_name = get_model_name(model, ops=\"sel\", n_samples=len(training_set), n_epochs=n_epochs, batch_size=batch_size) + \".csv\"\n",
    "metrics_path = os.path.join(vector_path, \"model_outputs\", \"selection\", \"metrics\", model_name)\n",
    "\n",
    "# creating a DataFrame with loss values\n",
    "metrics_df = pd.DataFrame(metrics)\n",
    "\n",
    "# save to CSV\n",
    "metrics_df.to_csv(metrics_path, index=False)"
   ]
  },
  {
   "cell_type": "code",
   "execution_count": null,
   "id": "45408bc8-20cf-4b2f-8b61-c6ca6c748162",
   "metadata": {},
   "outputs": [],
   "source": []
  }
 ],
 "metadata": {
  "kernelspec": {
   "display_name": "Python 3 (ipykernel)",
   "language": "python",
   "name": "python3"
  },
  "language_info": {
   "codemirror_mode": {
    "name": "ipython",
    "version": 3
   },
   "file_extension": ".py",
   "mimetype": "text/x-python",
   "name": "python",
   "nbconvert_exporter": "python",
   "pygments_lexer": "ipython3",
   "version": "3.11.7"
  }
 },
 "nbformat": 4,
 "nbformat_minor": 5
}
